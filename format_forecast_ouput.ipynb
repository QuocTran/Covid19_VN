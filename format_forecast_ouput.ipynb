{
 "cells": [
  {
   "cell_type": "code",
   "execution_count": 1,
   "metadata": {},
   "outputs": [
    {
     "name": "stdout",
     "output_type": "stream",
     "text": [
      "app.py\t\t\t\t      logs\r\n",
      "back_filled_forecast.ipynb\t      model_params_logs.csv\r\n",
      "cict_demo.py\t\t\t      model_utils.py\r\n",
      "daily_US_All_2020-12-20.csv\t      pwlf_mod.py\r\n",
      "data\t\t\t\t      __pycache__\r\n",
      "data_processed\t\t\t      SEIR.py\r\n",
      "forecast_utils.py\t\t      template\r\n",
      "format_forecast_ouput.ipynb\t      Try_plotly.ipynb\r\n",
      "generate_US_formatted_forecast.ipynb  Try_SEIR.ipynb\r\n",
      "__init__.py\r\n"
     ]
    }
   ],
   "source": [
    "!ls\n"
   ]
  },
  {
   "cell_type": "code",
   "execution_count": 7,
   "metadata": {},
   "outputs": [],
   "source": [
    "import pandas as pd\n",
    "import epiweeks\n",
    "import datetime as dt\n",
    "import numpy as np"
   ]
  },
  {
   "cell_type": "code",
   "execution_count": 3,
   "metadata": {},
   "outputs": [],
   "source": [
    "import model_utils as mu"
   ]
  },
  {
   "cell_type": "code",
   "execution_count": 4,
   "metadata": {},
   "outputs": [],
   "source": [
    "mu.DEATH_RATE = 0.36\n",
    "mu.ICU_RATE = 0.78\n",
    "mu.HOSPITAL_RATE = 2.18\n",
    "mu.SYMPTOM_RATE = 10.2\n",
    "mu.INFECT_2_HOSPITAL_TIME = 11\n",
    "mu.HOSPITAL_2_ICU_TIME = 4\n",
    "mu.ICU_2_DEATH_TIME = 4\n",
    "mu.ICU_2_RECOVER_TIME = 7\n",
    "mu.NOT_ICU_DISCHARGE_TIME = 5"
   ]
  },
  {
   "cell_type": "code",
   "execution_count": 6,
   "metadata": {},
   "outputs": [],
   "source": [
    "local_death_data = mu.get_data_by_country('US', 'All', type='deaths')"
   ]
  },
  {
   "cell_type": "code",
   "execution_count": 9,
   "metadata": {},
   "outputs": [],
   "source": [
    "policy_change_dates = [\"2020-03-19\", \"2020-06-12\", \"2020-07-13\", \"2020-10-20\", \"2020-12-03\"]"
   ]
  },
  {
   "cell_type": "code",
   "execution_count": 10,
   "metadata": {},
   "outputs": [
    {
     "name": "stderr",
     "output_type": "stream",
     "text": [
      "/home/quoc/anaconda3/envs/st65/lib/python3.7/site-packages/ipykernel_launcher.py:13: RuntimeWarning: divide by zero encountered in log\n",
      "  del sys.path[0]\n"
     ]
    }
   ],
   "source": [
    "policy_effective_dates = pd.to_datetime(policy_change_dates) + dt.timedelta(\n",
    "        mu.INFECT_2_HOSPITAL_TIME + mu.HOSPITAL_2_ICU_TIME + mu.ICU_2_DEATH_TIME)\n",
    "daily_local_death_new = mu.get_daily_data(local_death_data)\n",
    "smoothing_days = 7\n",
    "daily_local_death_avg = daily_local_death_new.rolling(smoothing_days, min_periods=1).mean()\n",
    "# Because of this smoothing step, we need to time var of prediction by smoothing_days=3.\n",
    "# Rolling set the label at the right edge of the windows, so we need to blank out the first 6 days after\n",
    "# policy effective dates since it mixes before and after change curve\n",
    "\n",
    "#shift ahead 1 day to avoid overfitted due to average of exponential value\n",
    "#daily_local_death_new = daily_local_death_new.shift(1)\n",
    "daily_local_death_avg.columns = ['death']\n",
    "log_daily_death = np.log(daily_local_death_avg)"
   ]
  },
  {
   "cell_type": "code",
   "execution_count": 13,
   "metadata": {},
   "outputs": [],
   "source": [
    "policy_effective_date = policy_effective_dates[0]"
   ]
  },
  {
   "cell_type": "code",
   "execution_count": 16,
   "metadata": {},
   "outputs": [
    {
     "data": {
      "text/plain": [
       "Timestamp('2020-04-07 00:00:00')"
      ]
     },
     "execution_count": 16,
     "metadata": {},
     "output_type": "execute_result"
    }
   ],
   "source": [
    "policy_effective_date"
   ]
  },
  {
   "cell_type": "code",
   "execution_count": 25,
   "metadata": {},
   "outputs": [],
   "source": [
    "for policy_effective_date in policy_effective_dates:\n",
    "    daily_local_death_avg = daily_local_death_avg.loc[\n",
    "        (daily_local_death_avg.index>=policy_effective_date+dt.timedelta(7))|\n",
    "        (daily_local_death_avg.index<policy_effective_date)]"
   ]
  },
  {
   "cell_type": "code",
   "execution_count": 27,
   "metadata": {},
   "outputs": [
    {
     "data": {
      "text/html": [
       "<div>\n",
       "<style scoped>\n",
       "    .dataframe tbody tr th:only-of-type {\n",
       "        vertical-align: middle;\n",
       "    }\n",
       "\n",
       "    .dataframe tbody tr th {\n",
       "        vertical-align: top;\n",
       "    }\n",
       "\n",
       "    .dataframe thead th {\n",
       "        text-align: right;\n",
       "    }\n",
       "</style>\n",
       "<table border=\"1\" class=\"dataframe\">\n",
       "  <thead>\n",
       "    <tr style=\"text-align: right;\">\n",
       "      <th></th>\n",
       "      <th>death</th>\n",
       "    </tr>\n",
       "  </thead>\n",
       "  <tbody>\n",
       "    <tr>\n",
       "      <th>2020-10-22</th>\n",
       "      <td>786.571429</td>\n",
       "    </tr>\n",
       "    <tr>\n",
       "      <th>2020-10-23</th>\n",
       "      <td>793.714286</td>\n",
       "    </tr>\n",
       "    <tr>\n",
       "      <th>2020-10-24</th>\n",
       "      <td>821.571429</td>\n",
       "    </tr>\n",
       "    <tr>\n",
       "      <th>2020-10-25</th>\n",
       "      <td>813.571429</td>\n",
       "    </tr>\n",
       "    <tr>\n",
       "      <th>2020-10-26</th>\n",
       "      <td>817.000000</td>\n",
       "    </tr>\n",
       "    <tr>\n",
       "      <th>2020-10-27</th>\n",
       "      <td>823.571429</td>\n",
       "    </tr>\n",
       "    <tr>\n",
       "      <th>2020-10-28</th>\n",
       "      <td>801.142857</td>\n",
       "    </tr>\n",
       "    <tr>\n",
       "      <th>2020-10-29</th>\n",
       "      <td>815.857143</td>\n",
       "    </tr>\n",
       "    <tr>\n",
       "      <th>2020-10-30</th>\n",
       "      <td>827.142857</td>\n",
       "    </tr>\n",
       "    <tr>\n",
       "      <th>2020-10-31</th>\n",
       "      <td>819.000000</td>\n",
       "    </tr>\n",
       "    <tr>\n",
       "      <th>2020-11-01</th>\n",
       "      <td>823.714286</td>\n",
       "    </tr>\n",
       "    <tr>\n",
       "      <th>2020-11-02</th>\n",
       "      <td>830.857143</td>\n",
       "    </tr>\n",
       "    <tr>\n",
       "      <th>2020-11-03</th>\n",
       "      <td>917.000000</td>\n",
       "    </tr>\n",
       "    <tr>\n",
       "      <th>2020-11-04</th>\n",
       "      <td>928.714286</td>\n",
       "    </tr>\n",
       "    <tr>\n",
       "      <th>2020-11-05</th>\n",
       "      <td>954.142857</td>\n",
       "    </tr>\n",
       "    <tr>\n",
       "      <th>2020-11-06</th>\n",
       "      <td>977.857143</td>\n",
       "    </tr>\n",
       "    <tr>\n",
       "      <th>2020-11-07</th>\n",
       "      <td>994.857143</td>\n",
       "    </tr>\n",
       "    <tr>\n",
       "      <th>2020-11-15</th>\n",
       "      <td>1109.428571</td>\n",
       "    </tr>\n",
       "    <tr>\n",
       "      <th>2020-11-16</th>\n",
       "      <td>1116.285714</td>\n",
       "    </tr>\n",
       "    <tr>\n",
       "      <th>2020-11-17</th>\n",
       "      <td>1160.571429</td>\n",
       "    </tr>\n",
       "    <tr>\n",
       "      <th>2020-11-18</th>\n",
       "      <td>1224.857143</td>\n",
       "    </tr>\n",
       "    <tr>\n",
       "      <th>2020-11-19</th>\n",
       "      <td>1337.000000</td>\n",
       "    </tr>\n",
       "    <tr>\n",
       "      <th>2020-11-20</th>\n",
       "      <td>1441.571429</td>\n",
       "    </tr>\n",
       "    <tr>\n",
       "      <th>2020-11-21</th>\n",
       "      <td>1466.285714</td>\n",
       "    </tr>\n",
       "    <tr>\n",
       "      <th>2020-11-22</th>\n",
       "      <td>1505.285714</td>\n",
       "    </tr>\n",
       "    <tr>\n",
       "      <th>2020-11-23</th>\n",
       "      <td>1531.714286</td>\n",
       "    </tr>\n",
       "    <tr>\n",
       "      <th>2020-11-24</th>\n",
       "      <td>1594.571429</td>\n",
       "    </tr>\n",
       "    <tr>\n",
       "      <th>2020-11-25</th>\n",
       "      <td>1653.000000</td>\n",
       "    </tr>\n",
       "    <tr>\n",
       "      <th>2020-11-26</th>\n",
       "      <td>1548.285714</td>\n",
       "    </tr>\n",
       "    <tr>\n",
       "      <th>2020-11-27</th>\n",
       "      <td>1481.142857</td>\n",
       "    </tr>\n",
       "    <tr>\n",
       "      <th>2020-11-28</th>\n",
       "      <td>1447.142857</td>\n",
       "    </tr>\n",
       "    <tr>\n",
       "      <th>2020-11-29</th>\n",
       "      <td>1436.285714</td>\n",
       "    </tr>\n",
       "    <tr>\n",
       "      <th>2020-11-30</th>\n",
       "      <td>1470.142857</td>\n",
       "    </tr>\n",
       "    <tr>\n",
       "      <th>2020-12-01</th>\n",
       "      <td>1536.142857</td>\n",
       "    </tr>\n",
       "    <tr>\n",
       "      <th>2020-12-02</th>\n",
       "      <td>1605.857143</td>\n",
       "    </tr>\n",
       "    <tr>\n",
       "      <th>2020-12-03</th>\n",
       "      <td>1834.142857</td>\n",
       "    </tr>\n",
       "    <tr>\n",
       "      <th>2020-12-04</th>\n",
       "      <td>2001.000000</td>\n",
       "    </tr>\n",
       "    <tr>\n",
       "      <th>2020-12-05</th>\n",
       "      <td>2150.285714</td>\n",
       "    </tr>\n",
       "    <tr>\n",
       "      <th>2020-12-06</th>\n",
       "      <td>2190.285714</td>\n",
       "    </tr>\n",
       "    <tr>\n",
       "      <th>2020-12-07</th>\n",
       "      <td>2228.285714</td>\n",
       "    </tr>\n",
       "    <tr>\n",
       "      <th>2020-12-08</th>\n",
       "      <td>2218.571429</td>\n",
       "    </tr>\n",
       "    <tr>\n",
       "      <th>2020-12-09</th>\n",
       "      <td>2259.857143</td>\n",
       "    </tr>\n",
       "    <tr>\n",
       "      <th>2020-12-10</th>\n",
       "      <td>2270.857143</td>\n",
       "    </tr>\n",
       "    <tr>\n",
       "      <th>2020-12-11</th>\n",
       "      <td>2369.285714</td>\n",
       "    </tr>\n",
       "    <tr>\n",
       "      <th>2020-12-12</th>\n",
       "      <td>2383.142857</td>\n",
       "    </tr>\n",
       "    <tr>\n",
       "      <th>2020-12-13</th>\n",
       "      <td>2421.285714</td>\n",
       "    </tr>\n",
       "    <tr>\n",
       "      <th>2020-12-14</th>\n",
       "      <td>2430.571429</td>\n",
       "    </tr>\n",
       "    <tr>\n",
       "      <th>2020-12-15</th>\n",
       "      <td>2496.857143</td>\n",
       "    </tr>\n",
       "    <tr>\n",
       "      <th>2020-12-16</th>\n",
       "      <td>2585.142857</td>\n",
       "    </tr>\n",
       "    <tr>\n",
       "      <th>2020-12-17</th>\n",
       "      <td>2646.000000</td>\n",
       "    </tr>\n",
       "    <tr>\n",
       "      <th>2020-12-18</th>\n",
       "      <td>2580.000000</td>\n",
       "    </tr>\n",
       "    <tr>\n",
       "      <th>2020-12-19</th>\n",
       "      <td>2607.857143</td>\n",
       "    </tr>\n",
       "    <tr>\n",
       "      <th>2020-12-20</th>\n",
       "      <td>2625.000000</td>\n",
       "    </tr>\n",
       "    <tr>\n",
       "      <th>2020-12-21</th>\n",
       "      <td>2655.285714</td>\n",
       "    </tr>\n",
       "    <tr>\n",
       "      <th>2020-12-29</th>\n",
       "      <td>2257.571429</td>\n",
       "    </tr>\n",
       "    <tr>\n",
       "      <th>2020-12-30</th>\n",
       "      <td>2313.428571</td>\n",
       "    </tr>\n",
       "    <tr>\n",
       "      <th>2020-12-31</th>\n",
       "      <td>2387.714286</td>\n",
       "    </tr>\n",
       "    <tr>\n",
       "      <th>2021-01-01</th>\n",
       "      <td>2506.000000</td>\n",
       "    </tr>\n",
       "    <tr>\n",
       "      <th>2021-01-02</th>\n",
       "      <td>2611.000000</td>\n",
       "    </tr>\n",
       "    <tr>\n",
       "      <th>2021-01-03</th>\n",
       "      <td>2637.428571</td>\n",
       "    </tr>\n",
       "  </tbody>\n",
       "</table>\n",
       "</div>"
      ],
      "text/plain": [
       "                  death\n",
       "2020-10-22   786.571429\n",
       "2020-10-23   793.714286\n",
       "2020-10-24   821.571429\n",
       "2020-10-25   813.571429\n",
       "2020-10-26   817.000000\n",
       "2020-10-27   823.571429\n",
       "2020-10-28   801.142857\n",
       "2020-10-29   815.857143\n",
       "2020-10-30   827.142857\n",
       "2020-10-31   819.000000\n",
       "2020-11-01   823.714286\n",
       "2020-11-02   830.857143\n",
       "2020-11-03   917.000000\n",
       "2020-11-04   928.714286\n",
       "2020-11-05   954.142857\n",
       "2020-11-06   977.857143\n",
       "2020-11-07   994.857143\n",
       "2020-11-15  1109.428571\n",
       "2020-11-16  1116.285714\n",
       "2020-11-17  1160.571429\n",
       "2020-11-18  1224.857143\n",
       "2020-11-19  1337.000000\n",
       "2020-11-20  1441.571429\n",
       "2020-11-21  1466.285714\n",
       "2020-11-22  1505.285714\n",
       "2020-11-23  1531.714286\n",
       "2020-11-24  1594.571429\n",
       "2020-11-25  1653.000000\n",
       "2020-11-26  1548.285714\n",
       "2020-11-27  1481.142857\n",
       "2020-11-28  1447.142857\n",
       "2020-11-29  1436.285714\n",
       "2020-11-30  1470.142857\n",
       "2020-12-01  1536.142857\n",
       "2020-12-02  1605.857143\n",
       "2020-12-03  1834.142857\n",
       "2020-12-04  2001.000000\n",
       "2020-12-05  2150.285714\n",
       "2020-12-06  2190.285714\n",
       "2020-12-07  2228.285714\n",
       "2020-12-08  2218.571429\n",
       "2020-12-09  2259.857143\n",
       "2020-12-10  2270.857143\n",
       "2020-12-11  2369.285714\n",
       "2020-12-12  2383.142857\n",
       "2020-12-13  2421.285714\n",
       "2020-12-14  2430.571429\n",
       "2020-12-15  2496.857143\n",
       "2020-12-16  2585.142857\n",
       "2020-12-17  2646.000000\n",
       "2020-12-18  2580.000000\n",
       "2020-12-19  2607.857143\n",
       "2020-12-20  2625.000000\n",
       "2020-12-21  2655.285714\n",
       "2020-12-29  2257.571429\n",
       "2020-12-30  2313.428571\n",
       "2020-12-31  2387.714286\n",
       "2021-01-01  2506.000000\n",
       "2021-01-02  2611.000000\n",
       "2021-01-03  2637.428571"
      ]
     },
     "execution_count": 27,
     "metadata": {},
     "output_type": "execute_result"
    }
   ],
   "source": [
    "daily_local_death_avg.tail(60)"
   ]
  },
  {
   "cell_type": "code",
   "execution_count": 24,
   "metadata": {},
   "outputs": [
    {
     "data": {
      "text/html": [
       "<div>\n",
       "<style scoped>\n",
       "    .dataframe tbody tr th:only-of-type {\n",
       "        vertical-align: middle;\n",
       "    }\n",
       "\n",
       "    .dataframe tbody tr th {\n",
       "        vertical-align: top;\n",
       "    }\n",
       "\n",
       "    .dataframe thead th {\n",
       "        text-align: right;\n",
       "    }\n",
       "</style>\n",
       "<table border=\"1\" class=\"dataframe\">\n",
       "  <thead>\n",
       "    <tr style=\"text-align: right;\">\n",
       "      <th></th>\n",
       "      <th>death</th>\n",
       "    </tr>\n",
       "  </thead>\n",
       "  <tbody>\n",
       "    <tr>\n",
       "      <th>2020-02-28</th>\n",
       "      <td>0.000000</td>\n",
       "    </tr>\n",
       "    <tr>\n",
       "      <th>2020-02-29</th>\n",
       "      <td>0.500000</td>\n",
       "    </tr>\n",
       "    <tr>\n",
       "      <th>2020-03-01</th>\n",
       "      <td>0.333333</td>\n",
       "    </tr>\n",
       "    <tr>\n",
       "      <th>2020-03-02</th>\n",
       "      <td>1.500000</td>\n",
       "    </tr>\n",
       "    <tr>\n",
       "      <th>2020-03-03</th>\n",
       "      <td>1.400000</td>\n",
       "    </tr>\n",
       "    <tr>\n",
       "      <th>2020-03-04</th>\n",
       "      <td>1.833333</td>\n",
       "    </tr>\n",
       "    <tr>\n",
       "      <th>2020-03-05</th>\n",
       "      <td>1.714286</td>\n",
       "    </tr>\n",
       "    <tr>\n",
       "      <th>2020-03-06</th>\n",
       "      <td>2.000000</td>\n",
       "    </tr>\n",
       "    <tr>\n",
       "      <th>2020-03-07</th>\n",
       "      <td>2.285714</td>\n",
       "    </tr>\n",
       "    <tr>\n",
       "      <th>2020-03-08</th>\n",
       "      <td>2.857143</td>\n",
       "    </tr>\n",
       "    <tr>\n",
       "      <th>2020-03-09</th>\n",
       "      <td>2.285714</td>\n",
       "    </tr>\n",
       "    <tr>\n",
       "      <th>2020-03-10</th>\n",
       "      <td>3.000000</td>\n",
       "    </tr>\n",
       "    <tr>\n",
       "      <th>2020-03-11</th>\n",
       "      <td>3.142857</td>\n",
       "    </tr>\n",
       "    <tr>\n",
       "      <th>2020-03-12</th>\n",
       "      <td>4.428571</td>\n",
       "    </tr>\n",
       "    <tr>\n",
       "      <th>2020-03-13</th>\n",
       "      <td>5.285714</td>\n",
       "    </tr>\n",
       "    <tr>\n",
       "      <th>2020-03-14</th>\n",
       "      <td>5.857143</td>\n",
       "    </tr>\n",
       "    <tr>\n",
       "      <th>2020-03-15</th>\n",
       "      <td>7.000000</td>\n",
       "    </tr>\n",
       "    <tr>\n",
       "      <th>2020-03-16</th>\n",
       "      <td>10.714286</td>\n",
       "    </tr>\n",
       "    <tr>\n",
       "      <th>2020-03-17</th>\n",
       "      <td>15.000000</td>\n",
       "    </tr>\n",
       "    <tr>\n",
       "      <th>2020-03-18</th>\n",
       "      <td>22.714286</td>\n",
       "    </tr>\n",
       "    <tr>\n",
       "      <th>2020-03-19</th>\n",
       "      <td>31.571429</td>\n",
       "    </tr>\n",
       "    <tr>\n",
       "      <th>2020-03-20</th>\n",
       "      <td>45.142857</td>\n",
       "    </tr>\n",
       "    <tr>\n",
       "      <th>2020-03-21</th>\n",
       "      <td>58.285714</td>\n",
       "    </tr>\n",
       "    <tr>\n",
       "      <th>2020-03-22</th>\n",
       "      <td>72.285714</td>\n",
       "    </tr>\n",
       "    <tr>\n",
       "      <th>2020-03-23</th>\n",
       "      <td>95.142857</td>\n",
       "    </tr>\n",
       "    <tr>\n",
       "      <th>2020-03-24</th>\n",
       "      <td>124.428571</td>\n",
       "    </tr>\n",
       "    <tr>\n",
       "      <th>2020-03-25</th>\n",
       "      <td>162.571429</td>\n",
       "    </tr>\n",
       "    <tr>\n",
       "      <th>2020-03-26</th>\n",
       "      <td>211.142857</td>\n",
       "    </tr>\n",
       "    <tr>\n",
       "      <th>2020-03-27</th>\n",
       "      <td>270.857143</td>\n",
       "    </tr>\n",
       "    <tr>\n",
       "      <th>2020-03-28</th>\n",
       "      <td>347.428571</td>\n",
       "    </tr>\n",
       "    <tr>\n",
       "      <th>2020-03-29</th>\n",
       "      <td>416.285714</td>\n",
       "    </tr>\n",
       "    <tr>\n",
       "      <th>2020-03-30</th>\n",
       "      <td>489.142857</td>\n",
       "    </tr>\n",
       "    <tr>\n",
       "      <th>2020-03-31</th>\n",
       "      <td>610.571429</td>\n",
       "    </tr>\n",
       "    <tr>\n",
       "      <th>2020-04-01</th>\n",
       "      <td>743.571429</td>\n",
       "    </tr>\n",
       "    <tr>\n",
       "      <th>2020-04-02</th>\n",
       "      <td>898.428571</td>\n",
       "    </tr>\n",
       "    <tr>\n",
       "      <th>2020-04-03</th>\n",
       "      <td>1024.714286</td>\n",
       "    </tr>\n",
       "    <tr>\n",
       "      <th>2020-04-04</th>\n",
       "      <td>1154.857143</td>\n",
       "    </tr>\n",
       "    <tr>\n",
       "      <th>2020-04-05</th>\n",
       "      <td>1296.000000</td>\n",
       "    </tr>\n",
       "    <tr>\n",
       "      <th>2020-04-06</th>\n",
       "      <td>1447.285714</td>\n",
       "    </tr>\n",
       "    <tr>\n",
       "      <th>2020-04-14</th>\n",
       "      <td>2132.000000</td>\n",
       "    </tr>\n",
       "    <tr>\n",
       "      <th>2020-04-15</th>\n",
       "      <td>2196.857143</td>\n",
       "    </tr>\n",
       "    <tr>\n",
       "      <th>2020-04-16</th>\n",
       "      <td>2190.285714</td>\n",
       "    </tr>\n",
       "    <tr>\n",
       "      <th>2020-04-17</th>\n",
       "      <td>2171.571429</td>\n",
       "    </tr>\n",
       "    <tr>\n",
       "      <th>2020-04-18</th>\n",
       "      <td>2148.428571</td>\n",
       "    </tr>\n",
       "    <tr>\n",
       "      <th>2020-04-19</th>\n",
       "      <td>2165.285714</td>\n",
       "    </tr>\n",
       "    <tr>\n",
       "      <th>2020-04-20</th>\n",
       "      <td>2199.571429</td>\n",
       "    </tr>\n",
       "    <tr>\n",
       "      <th>2020-04-21</th>\n",
       "      <td>2212.714286</td>\n",
       "    </tr>\n",
       "    <tr>\n",
       "      <th>2020-04-22</th>\n",
       "      <td>2188.571429</td>\n",
       "    </tr>\n",
       "    <tr>\n",
       "      <th>2020-04-23</th>\n",
       "      <td>2230.428571</td>\n",
       "    </tr>\n",
       "    <tr>\n",
       "      <th>2020-04-24</th>\n",
       "      <td>2241.285714</td>\n",
       "    </tr>\n",
       "    <tr>\n",
       "      <th>2020-04-25</th>\n",
       "      <td>2202.857143</td>\n",
       "    </tr>\n",
       "    <tr>\n",
       "      <th>2020-04-26</th>\n",
       "      <td>2118.285714</td>\n",
       "    </tr>\n",
       "    <tr>\n",
       "      <th>2020-04-27</th>\n",
       "      <td>2013.285714</td>\n",
       "    </tr>\n",
       "    <tr>\n",
       "      <th>2020-04-28</th>\n",
       "      <td>1968.285714</td>\n",
       "    </tr>\n",
       "    <tr>\n",
       "      <th>2020-04-29</th>\n",
       "      <td>1981.428571</td>\n",
       "    </tr>\n",
       "    <tr>\n",
       "      <th>2020-04-30</th>\n",
       "      <td>1975.285714</td>\n",
       "    </tr>\n",
       "    <tr>\n",
       "      <th>2020-05-01</th>\n",
       "      <td>1935.428571</td>\n",
       "    </tr>\n",
       "    <tr>\n",
       "      <th>2020-05-02</th>\n",
       "      <td>1933.571429</td>\n",
       "    </tr>\n",
       "    <tr>\n",
       "      <th>2020-05-03</th>\n",
       "      <td>1901.142857</td>\n",
       "    </tr>\n",
       "    <tr>\n",
       "      <th>2020-05-04</th>\n",
       "      <td>1881.285714</td>\n",
       "    </tr>\n",
       "  </tbody>\n",
       "</table>\n",
       "</div>"
      ],
      "text/plain": [
       "                  death\n",
       "2020-02-28     0.000000\n",
       "2020-02-29     0.500000\n",
       "2020-03-01     0.333333\n",
       "2020-03-02     1.500000\n",
       "2020-03-03     1.400000\n",
       "2020-03-04     1.833333\n",
       "2020-03-05     1.714286\n",
       "2020-03-06     2.000000\n",
       "2020-03-07     2.285714\n",
       "2020-03-08     2.857143\n",
       "2020-03-09     2.285714\n",
       "2020-03-10     3.000000\n",
       "2020-03-11     3.142857\n",
       "2020-03-12     4.428571\n",
       "2020-03-13     5.285714\n",
       "2020-03-14     5.857143\n",
       "2020-03-15     7.000000\n",
       "2020-03-16    10.714286\n",
       "2020-03-17    15.000000\n",
       "2020-03-18    22.714286\n",
       "2020-03-19    31.571429\n",
       "2020-03-20    45.142857\n",
       "2020-03-21    58.285714\n",
       "2020-03-22    72.285714\n",
       "2020-03-23    95.142857\n",
       "2020-03-24   124.428571\n",
       "2020-03-25   162.571429\n",
       "2020-03-26   211.142857\n",
       "2020-03-27   270.857143\n",
       "2020-03-28   347.428571\n",
       "2020-03-29   416.285714\n",
       "2020-03-30   489.142857\n",
       "2020-03-31   610.571429\n",
       "2020-04-01   743.571429\n",
       "2020-04-02   898.428571\n",
       "2020-04-03  1024.714286\n",
       "2020-04-04  1154.857143\n",
       "2020-04-05  1296.000000\n",
       "2020-04-06  1447.285714\n",
       "2020-04-14  2132.000000\n",
       "2020-04-15  2196.857143\n",
       "2020-04-16  2190.285714\n",
       "2020-04-17  2171.571429\n",
       "2020-04-18  2148.428571\n",
       "2020-04-19  2165.285714\n",
       "2020-04-20  2199.571429\n",
       "2020-04-21  2212.714286\n",
       "2020-04-22  2188.571429\n",
       "2020-04-23  2230.428571\n",
       "2020-04-24  2241.285714\n",
       "2020-04-25  2202.857143\n",
       "2020-04-26  2118.285714\n",
       "2020-04-27  2013.285714\n",
       "2020-04-28  1968.285714\n",
       "2020-04-29  1981.428571\n",
       "2020-04-30  1975.285714\n",
       "2020-05-01  1935.428571\n",
       "2020-05-02  1933.571429\n",
       "2020-05-03  1901.142857\n",
       "2020-05-04  1881.285714"
      ]
     },
     "execution_count": 24,
     "metadata": {},
     "output_type": "execute_result"
    }
   ],
   "source": [
    "daily_local_death_avg.loc[(daily_local_death_avg.index>=policy_effective_date+dt.timedelta(7))|\n",
    "                          (daily_local_death_avg.index<policy_effective_date)].head(60)"
   ]
  },
  {
   "cell_type": "code",
   "execution_count": 18,
   "metadata": {},
   "outputs": [],
   "source": [
    "fips = pd.read_csv('../../../github/covid19-forecast-hub/data-locations/locations.csv')"
   ]
  },
  {
   "cell_type": "code",
   "execution_count": 4,
   "metadata": {},
   "outputs": [],
   "source": [
    "input_forecast = pd.read_csv(\"daily_US_All_2020-12-20.csv\")"
   ]
  },
  {
   "cell_type": "code",
   "execution_count": 5,
   "metadata": {},
   "outputs": [
    {
     "data": {
      "text/html": [
       "<div>\n",
       "<style scoped>\n",
       "    .dataframe tbody tr th:only-of-type {\n",
       "        vertical-align: middle;\n",
       "    }\n",
       "\n",
       "    .dataframe tbody tr th {\n",
       "        vertical-align: top;\n",
       "    }\n",
       "\n",
       "    .dataframe thead th {\n",
       "        text-align: right;\n",
       "    }\n",
       "</style>\n",
       "<table border=\"1\" class=\"dataframe\">\n",
       "  <thead>\n",
       "    <tr style=\"text-align: right;\">\n",
       "      <th></th>\n",
       "      <th>Unnamed: 0</th>\n",
       "      <th>death</th>\n",
       "      <th>predicted_death</th>\n",
       "      <th>lower_bound</th>\n",
       "      <th>upper_bound</th>\n",
       "      <th>infected</th>\n",
       "      <th>symptomatic</th>\n",
       "      <th>hospitalized</th>\n",
       "      <th>hospital_beds</th>\n",
       "      <th>ICU</th>\n",
       "      <th>confirmed</th>\n",
       "    </tr>\n",
       "  </thead>\n",
       "  <tbody>\n",
       "    <tr>\n",
       "      <th>305</th>\n",
       "      <td>2020-12-10</td>\n",
       "      <td>2920.0</td>\n",
       "      <td>2453.887964</td>\n",
       "      <td>2167.678644</td>\n",
       "      <td>2777.886914</td>\n",
       "      <td>1.177338e+06</td>\n",
       "      <td>87516.272517</td>\n",
       "      <td>18704.458244</td>\n",
       "      <td>122447.724167</td>\n",
       "      <td>30326.885178</td>\n",
       "      <td>226684.0</td>\n",
       "    </tr>\n",
       "    <tr>\n",
       "      <th>306</th>\n",
       "      <td>2020-12-11</td>\n",
       "      <td>3283.0</td>\n",
       "      <td>2525.496563</td>\n",
       "      <td>2221.185495</td>\n",
       "      <td>2871.499433</td>\n",
       "      <td>1.211695e+06</td>\n",
       "      <td>90070.145287</td>\n",
       "      <td>19250.285953</td>\n",
       "      <td>126020.955744</td>\n",
       "      <td>31211.874953</td>\n",
       "      <td>234103.0</td>\n",
       "    </tr>\n",
       "    <tr>\n",
       "      <th>307</th>\n",
       "      <td>2020-12-12</td>\n",
       "      <td>2354.0</td>\n",
       "      <td>2599.194822</td>\n",
       "      <td>2275.810933</td>\n",
       "      <td>2968.530303</td>\n",
       "      <td>1.247054e+06</td>\n",
       "      <td>92698.544381</td>\n",
       "      <td>19812.041838</td>\n",
       "      <td>129698.460258</td>\n",
       "      <td>32122.690224</td>\n",
       "      <td>219193.0</td>\n",
       "    </tr>\n",
       "    <tr>\n",
       "      <th>308</th>\n",
       "      <td>2020-12-13</td>\n",
       "      <td>1389.0</td>\n",
       "      <td>2675.043720</td>\n",
       "      <td>2331.592850</td>\n",
       "      <td>3069.085970</td>\n",
       "      <td>1.283445e+06</td>\n",
       "      <td>95403.644603</td>\n",
       "      <td>20390.190709</td>\n",
       "      <td>133483.280571</td>\n",
       "      <td>33060.084625</td>\n",
       "      <td>191142.0</td>\n",
       "    </tr>\n",
       "    <tr>\n",
       "      <th>309</th>\n",
       "      <td>2020-12-14</td>\n",
       "      <td>1484.0</td>\n",
       "      <td>2753.106018</td>\n",
       "      <td>2388.568935</td>\n",
       "      <td>3173.277788</td>\n",
       "      <td>1.320898e+06</td>\n",
       "      <td>98187.684223</td>\n",
       "      <td>20985.210942</td>\n",
       "      <td>137378.548338</td>\n",
       "      <td>34024.833779</td>\n",
       "      <td>192846.0</td>\n",
       "    </tr>\n",
       "    <tr>\n",
       "      <th>...</th>\n",
       "      <td>...</td>\n",
       "      <td>...</td>\n",
       "      <td>...</td>\n",
       "      <td>...</td>\n",
       "      <td>...</td>\n",
       "      <td>...</td>\n",
       "      <td>...</td>\n",
       "      <td>...</td>\n",
       "      <td>...</td>\n",
       "      <td>...</td>\n",
       "      <td>...</td>\n",
       "    </tr>\n",
       "    <tr>\n",
       "      <th>370</th>\n",
       "      <td>2021-02-13</td>\n",
       "      <td>NaN</td>\n",
       "      <td>15916.151557</td>\n",
       "      <td>9998.610245</td>\n",
       "      <td>25335.909108</td>\n",
       "      <td>NaN</td>\n",
       "      <td>NaN</td>\n",
       "      <td>NaN</td>\n",
       "      <td>NaN</td>\n",
       "      <td>196703.071963</td>\n",
       "      <td>NaN</td>\n",
       "    </tr>\n",
       "    <tr>\n",
       "      <th>371</th>\n",
       "      <td>2021-02-14</td>\n",
       "      <td>NaN</td>\n",
       "      <td>16380.611764</td>\n",
       "      <td>10234.063765</td>\n",
       "      <td>26218.758054</td>\n",
       "      <td>NaN</td>\n",
       "      <td>NaN</td>\n",
       "      <td>NaN</td>\n",
       "      <td>NaN</td>\n",
       "      <td>NaN</td>\n",
       "      <td>NaN</td>\n",
       "    </tr>\n",
       "    <tr>\n",
       "      <th>372</th>\n",
       "      <td>2021-02-15</td>\n",
       "      <td>NaN</td>\n",
       "      <td>16858.625705</td>\n",
       "      <td>10475.042982</td>\n",
       "      <td>27132.419519</td>\n",
       "      <td>NaN</td>\n",
       "      <td>NaN</td>\n",
       "      <td>NaN</td>\n",
       "      <td>NaN</td>\n",
       "      <td>NaN</td>\n",
       "      <td>NaN</td>\n",
       "    </tr>\n",
       "    <tr>\n",
       "      <th>373</th>\n",
       "      <td>2021-02-16</td>\n",
       "      <td>NaN</td>\n",
       "      <td>17350.588901</td>\n",
       "      <td>10721.677791</td>\n",
       "      <td>28077.968865</td>\n",
       "      <td>NaN</td>\n",
       "      <td>NaN</td>\n",
       "      <td>NaN</td>\n",
       "      <td>NaN</td>\n",
       "      <td>NaN</td>\n",
       "      <td>NaN</td>\n",
       "    </tr>\n",
       "    <tr>\n",
       "      <th>374</th>\n",
       "      <td>2021-02-17</td>\n",
       "      <td>NaN</td>\n",
       "      <td>17856.908415</td>\n",
       "      <td>10974.101131</td>\n",
       "      <td>29056.519010</td>\n",
       "      <td>NaN</td>\n",
       "      <td>NaN</td>\n",
       "      <td>NaN</td>\n",
       "      <td>NaN</td>\n",
       "      <td>NaN</td>\n",
       "      <td>NaN</td>\n",
       "    </tr>\n",
       "  </tbody>\n",
       "</table>\n",
       "<p>70 rows × 11 columns</p>\n",
       "</div>"
      ],
      "text/plain": [
       "     Unnamed: 0   death  predicted_death   lower_bound   upper_bound  \\\n",
       "305  2020-12-10  2920.0      2453.887964   2167.678644   2777.886914   \n",
       "306  2020-12-11  3283.0      2525.496563   2221.185495   2871.499433   \n",
       "307  2020-12-12  2354.0      2599.194822   2275.810933   2968.530303   \n",
       "308  2020-12-13  1389.0      2675.043720   2331.592850   3069.085970   \n",
       "309  2020-12-14  1484.0      2753.106018   2388.568935   3173.277788   \n",
       "..          ...     ...              ...           ...           ...   \n",
       "370  2021-02-13     NaN     15916.151557   9998.610245  25335.909108   \n",
       "371  2021-02-14     NaN     16380.611764  10234.063765  26218.758054   \n",
       "372  2021-02-15     NaN     16858.625705  10475.042982  27132.419519   \n",
       "373  2021-02-16     NaN     17350.588901  10721.677791  28077.968865   \n",
       "374  2021-02-17     NaN     17856.908415  10974.101131  29056.519010   \n",
       "\n",
       "         infected   symptomatic  hospitalized  hospital_beds            ICU  \\\n",
       "305  1.177338e+06  87516.272517  18704.458244  122447.724167   30326.885178   \n",
       "306  1.211695e+06  90070.145287  19250.285953  126020.955744   31211.874953   \n",
       "307  1.247054e+06  92698.544381  19812.041838  129698.460258   32122.690224   \n",
       "308  1.283445e+06  95403.644603  20390.190709  133483.280571   33060.084625   \n",
       "309  1.320898e+06  98187.684223  20985.210942  137378.548338   34024.833779   \n",
       "..            ...           ...           ...            ...            ...   \n",
       "370           NaN           NaN           NaN            NaN  196703.071963   \n",
       "371           NaN           NaN           NaN            NaN            NaN   \n",
       "372           NaN           NaN           NaN            NaN            NaN   \n",
       "373           NaN           NaN           NaN            NaN            NaN   \n",
       "374           NaN           NaN           NaN            NaN            NaN   \n",
       "\n",
       "     confirmed  \n",
       "305   226684.0  \n",
       "306   234103.0  \n",
       "307   219193.0  \n",
       "308   191142.0  \n",
       "309   192846.0  \n",
       "..         ...  \n",
       "370        NaN  \n",
       "371        NaN  \n",
       "372        NaN  \n",
       "373        NaN  \n",
       "374        NaN  \n",
       "\n",
       "[70 rows x 11 columns]"
      ]
     },
     "execution_count": 5,
     "metadata": {},
     "output_type": "execute_result"
    }
   ],
   "source": [
    "input_forecast.tail(n=70)"
   ]
  },
  {
   "cell_type": "code",
   "execution_count": 6,
   "metadata": {},
   "outputs": [],
   "source": [
    "input_forecast.rename(columns={'Unnamed: 0': 'date'}, inplace = True)"
   ]
  },
  {
   "cell_type": "code",
   "execution_count": 203,
   "metadata": {},
   "outputs": [],
   "source": [
    "abbr = 'US'\n",
    "forecast_date = '2020-12-21'\n",
    "target_metric = 'death'\n",
    "target_aggr = 'inc'"
   ]
  },
  {
   "cell_type": "code",
   "execution_count": 11,
   "metadata": {},
   "outputs": [],
   "source": [
    "metric_map ={'death': 'predicted_death'}"
   ]
  },
  {
   "cell_type": "code",
   "execution_count": 9,
   "metadata": {},
   "outputs": [],
   "source": [
    "def get_epiweek_enddate(x):\n",
    "    return epiweeks.Week.fromdate(pd.to_datetime(x).date()).enddate()"
   ]
  },
  {
   "cell_type": "code",
   "execution_count": 10,
   "metadata": {},
   "outputs": [],
   "source": [
    "def get_target_str(target_end_date):\n",
    "    forecast_date_week_end = get_epiweek_enddate(forecast_date)\n",
    "    target = '{week} wk ahead {target_aggr} {target_metric}'.format(week=(target_end_date - forecast_date_week_end).days//7 + 1,\n",
    "                                                               target_aggr=target_aggr,\n",
    "                                                               target_metric=target_metric)\n",
    "    return target"
   ]
  },
  {
   "cell_type": "code",
   "execution_count": 73,
   "metadata": {},
   "outputs": [],
   "source": [
    "def format_forecast(input_forecast, \n",
    "                    location_name, \n",
    "                    forecast_date,\n",
    "                    target_metric,\n",
    "                    target_aggr):\n",
    "    forecast_date = pd.to_datetime(forecast_date).date()\n",
    "    input_forecast['target_end_date'] = input_forecast.date.apply(get_epiweek_enddate)\n",
    "    input_forecast['target'] = input_forecast.target_end_date.apply(get_target_str)\n",
    "    input_forecast['forecast_date'] = forecast_date\n",
    "    input_forecast['location'] = fips.query('location_name == @location_name').location.iloc[0]\n",
    "    input_forecast['quantile'] = 'NA'\n",
    "    input_forecast['type'] = 'point'\n",
    "    input_forecast.rename(columns={metric_map[target_metric]:'value'}, inplace=True)\n",
    "    output = input_forecast[['forecast_date', 'target', 'target_end_date', 'quantile', 'type', 'value', 'location']]\n",
    "    return output.groupby(['forecast_date', 'target', 'target_end_date', 'quantile', 'type', 'location']).sum().reset_index().query('target_end_date>forecast_date')"
   ]
  },
  {
   "cell_type": "code",
   "execution_count": 54,
   "metadata": {},
   "outputs": [
    {
     "data": {
      "text/html": [
       "<div>\n",
       "<style scoped>\n",
       "    .dataframe tbody tr th:only-of-type {\n",
       "        vertical-align: middle;\n",
       "    }\n",
       "\n",
       "    .dataframe tbody tr th {\n",
       "        vertical-align: top;\n",
       "    }\n",
       "\n",
       "    .dataframe thead th {\n",
       "        text-align: right;\n",
       "    }\n",
       "</style>\n",
       "<table border=\"1\" class=\"dataframe\">\n",
       "  <thead>\n",
       "    <tr style=\"text-align: right;\">\n",
       "      <th></th>\n",
       "      <th>forecast_date</th>\n",
       "      <th>target</th>\n",
       "      <th>target_end_date</th>\n",
       "      <th>quantile</th>\n",
       "      <th>type</th>\n",
       "      <th>location</th>\n",
       "      <th>value</th>\n",
       "    </tr>\n",
       "  </thead>\n",
       "  <tbody>\n",
       "    <tr>\n",
       "      <th>45</th>\n",
       "      <td>2020-12-20</td>\n",
       "      <td>1 wk ahead inc death</td>\n",
       "      <td>2020-12-26</td>\n",
       "      <td>NA</td>\n",
       "      <td>point</td>\n",
       "      <td>US</td>\n",
       "      <td>23423.635211</td>\n",
       "    </tr>\n",
       "    <tr>\n",
       "      <th>46</th>\n",
       "      <td>2020-12-20</td>\n",
       "      <td>2 wk ahead inc death</td>\n",
       "      <td>2021-01-02</td>\n",
       "      <td>NA</td>\n",
       "      <td>point</td>\n",
       "      <td>US</td>\n",
       "      <td>28318.467783</td>\n",
       "    </tr>\n",
       "    <tr>\n",
       "      <th>47</th>\n",
       "      <td>2020-12-20</td>\n",
       "      <td>3 wk ahead inc death</td>\n",
       "      <td>2021-01-09</td>\n",
       "      <td>NA</td>\n",
       "      <td>point</td>\n",
       "      <td>US</td>\n",
       "      <td>34236.172582</td>\n",
       "    </tr>\n",
       "    <tr>\n",
       "      <th>48</th>\n",
       "      <td>2020-12-20</td>\n",
       "      <td>4 wk ahead inc death</td>\n",
       "      <td>2021-01-16</td>\n",
       "      <td>NA</td>\n",
       "      <td>point</td>\n",
       "      <td>US</td>\n",
       "      <td>41390.499022</td>\n",
       "    </tr>\n",
       "    <tr>\n",
       "      <th>49</th>\n",
       "      <td>2020-12-20</td>\n",
       "      <td>5 wk ahead inc death</td>\n",
       "      <td>2021-01-23</td>\n",
       "      <td>NA</td>\n",
       "      <td>point</td>\n",
       "      <td>US</td>\n",
       "      <td>50039.863689</td>\n",
       "    </tr>\n",
       "    <tr>\n",
       "      <th>50</th>\n",
       "      <td>2020-12-20</td>\n",
       "      <td>6 wk ahead inc death</td>\n",
       "      <td>2021-01-30</td>\n",
       "      <td>NA</td>\n",
       "      <td>point</td>\n",
       "      <td>US</td>\n",
       "      <td>60496.684438</td>\n",
       "    </tr>\n",
       "    <tr>\n",
       "      <th>51</th>\n",
       "      <td>2020-12-20</td>\n",
       "      <td>7 wk ahead inc death</td>\n",
       "      <td>2021-02-06</td>\n",
       "      <td>NA</td>\n",
       "      <td>point</td>\n",
       "      <td>US</td>\n",
       "      <td>73138.665019</td>\n",
       "    </tr>\n",
       "    <tr>\n",
       "      <th>52</th>\n",
       "      <td>2020-12-20</td>\n",
       "      <td>8 wk ahead inc death</td>\n",
       "      <td>2021-02-13</td>\n",
       "      <td>NA</td>\n",
       "      <td>point</td>\n",
       "      <td>US</td>\n",
       "      <td>88422.437866</td>\n",
       "    </tr>\n",
       "    <tr>\n",
       "      <th>53</th>\n",
       "      <td>2020-12-20</td>\n",
       "      <td>9 wk ahead inc death</td>\n",
       "      <td>2021-02-20</td>\n",
       "      <td>NA</td>\n",
       "      <td>point</td>\n",
       "      <td>US</td>\n",
       "      <td>74260.390986</td>\n",
       "    </tr>\n",
       "  </tbody>\n",
       "</table>\n",
       "</div>"
      ],
      "text/plain": [
       "   forecast_date                target target_end_date quantile   type  \\\n",
       "45    2020-12-20  1 wk ahead inc death      2020-12-26       NA  point   \n",
       "46    2020-12-20  2 wk ahead inc death      2021-01-02       NA  point   \n",
       "47    2020-12-20  3 wk ahead inc death      2021-01-09       NA  point   \n",
       "48    2020-12-20  4 wk ahead inc death      2021-01-16       NA  point   \n",
       "49    2020-12-20  5 wk ahead inc death      2021-01-23       NA  point   \n",
       "50    2020-12-20  6 wk ahead inc death      2021-01-30       NA  point   \n",
       "51    2020-12-20  7 wk ahead inc death      2021-02-06       NA  point   \n",
       "52    2020-12-20  8 wk ahead inc death      2021-02-13       NA  point   \n",
       "53    2020-12-20  9 wk ahead inc death      2021-02-20       NA  point   \n",
       "\n",
       "   location         value  \n",
       "45       US  23423.635211  \n",
       "46       US  28318.467783  \n",
       "47       US  34236.172582  \n",
       "48       US  41390.499022  \n",
       "49       US  50039.863689  \n",
       "50       US  60496.684438  \n",
       "51       US  73138.665019  \n",
       "52       US  88422.437866  \n",
       "53       US  74260.390986  "
      ]
     },
     "execution_count": 54,
     "metadata": {},
     "output_type": "execute_result"
    }
   ],
   "source": [
    "format_forecast(input_forecast)"
   ]
  },
  {
   "cell_type": "code",
   "execution_count": 74,
   "metadata": {},
   "outputs": [],
   "source": [
    "def generate_formatted_forecast(scope,\n",
    "                                location_name,\n",
    "                                forecast_date,\n",
    "                                target_metric = 'death',\n",
    "                                target_aggr = 'inc'):\n",
    "    forecast_date = pd.to_datetime(forecast_date).date()\n",
    "    if scope == 'World':\n",
    "        forecast_fun = mu.get_metrics_by_country\n",
    "        policy_date_fun = mu.get_policy_change_dates_by_country\n",
    "    else:\n",
    "        forecast_fun = mu.get_metrics_by_state_US\n",
    "        policy_date_fun = mu.get_policy_change_dates_by_state_US\n",
    "    input_forecast, _, _ = forecast_fun(location_name, \n",
    "                                        forecast_horizon=60,\n",
    "                                        policy_change_dates=policy_date_fun(location_name),\n",
    "                                        back_test=True, last_data_date=forecast_date)\n",
    "    input_forecast.index.rename('date', inplace=True)\n",
    "    input_forecast.reset_index(inplace=True)\n",
    "    return format_forecast(input_forecast, location_name, forecast_date, target_metric, target_aggr)"
   ]
  },
  {
   "cell_type": "code",
   "execution_count": 185,
   "metadata": {},
   "outputs": [
    {
     "name": "stderr",
     "output_type": "stream",
     "text": [
      "/home/quoc/bitbucket/covid-19/prognosis/model_utils.py:247: RuntimeWarning: divide by zero encountered in log\n",
      "  log_daily_death = np.log(daily_local_death_new)\n"
     ]
    }
   ],
   "source": [
    "US_forecast = generate_formatted_forecast('World', 'US', '2020-12-20')"
   ]
  },
  {
   "cell_type": "code",
   "execution_count": 186,
   "metadata": {},
   "outputs": [],
   "source": [
    "US_forecast = US_forecast.query('target!=\"9 wk ahead inc death\"')"
   ]
  },
  {
   "cell_type": "code",
   "execution_count": 84,
   "metadata": {},
   "outputs": [
    {
     "name": "stderr",
     "output_type": "stream",
     "text": [
      "/home/quoc/bitbucket/covid-19/prognosis/model_utils.py:247: RuntimeWarning: divide by zero encountered in log\n",
      "  log_daily_death = np.log(daily_local_death_new)\n",
      "/home/quoc/bitbucket/covid-19/prognosis/model_utils.py:247: RuntimeWarning: invalid value encountered in log\n",
      "  log_daily_death = np.log(daily_local_death_new)\n"
     ]
    }
   ],
   "source": [
    "CA = generate_formatted_forecast('US', 'California', '2020-12-20')"
   ]
  },
  {
   "cell_type": "code",
   "execution_count": 194,
   "metadata": {},
   "outputs": [
    {
     "data": {
      "text/html": [
       "<div>\n",
       "<style scoped>\n",
       "    .dataframe tbody tr th:only-of-type {\n",
       "        vertical-align: middle;\n",
       "    }\n",
       "\n",
       "    .dataframe tbody tr th {\n",
       "        vertical-align: top;\n",
       "    }\n",
       "\n",
       "    .dataframe thead th {\n",
       "        text-align: right;\n",
       "    }\n",
       "</style>\n",
       "<table border=\"1\" class=\"dataframe\">\n",
       "  <thead>\n",
       "    <tr style=\"text-align: right;\">\n",
       "      <th></th>\n",
       "      <th>forecast_date</th>\n",
       "      <th>target</th>\n",
       "      <th>target_end_date</th>\n",
       "      <th>quantile</th>\n",
       "      <th>type</th>\n",
       "      <th>location</th>\n",
       "      <th>value</th>\n",
       "    </tr>\n",
       "  </thead>\n",
       "  <tbody>\n",
       "    <tr>\n",
       "      <th>45</th>\n",
       "      <td>2020-12-20</td>\n",
       "      <td>1 wk ahead inc death</td>\n",
       "      <td>2020-12-26</td>\n",
       "      <td>NA</td>\n",
       "      <td>point</td>\n",
       "      <td>US</td>\n",
       "      <td>23423.635211</td>\n",
       "    </tr>\n",
       "    <tr>\n",
       "      <th>46</th>\n",
       "      <td>2020-12-20</td>\n",
       "      <td>2 wk ahead inc death</td>\n",
       "      <td>2021-01-02</td>\n",
       "      <td>NA</td>\n",
       "      <td>point</td>\n",
       "      <td>US</td>\n",
       "      <td>28318.467783</td>\n",
       "    </tr>\n",
       "    <tr>\n",
       "      <th>47</th>\n",
       "      <td>2020-12-20</td>\n",
       "      <td>3 wk ahead inc death</td>\n",
       "      <td>2021-01-09</td>\n",
       "      <td>NA</td>\n",
       "      <td>point</td>\n",
       "      <td>US</td>\n",
       "      <td>34236.172582</td>\n",
       "    </tr>\n",
       "    <tr>\n",
       "      <th>48</th>\n",
       "      <td>2020-12-20</td>\n",
       "      <td>4 wk ahead inc death</td>\n",
       "      <td>2021-01-16</td>\n",
       "      <td>NA</td>\n",
       "      <td>point</td>\n",
       "      <td>US</td>\n",
       "      <td>41390.499022</td>\n",
       "    </tr>\n",
       "    <tr>\n",
       "      <th>49</th>\n",
       "      <td>2020-12-20</td>\n",
       "      <td>5 wk ahead inc death</td>\n",
       "      <td>2021-01-23</td>\n",
       "      <td>NA</td>\n",
       "      <td>point</td>\n",
       "      <td>US</td>\n",
       "      <td>50039.863689</td>\n",
       "    </tr>\n",
       "    <tr>\n",
       "      <th>50</th>\n",
       "      <td>2020-12-20</td>\n",
       "      <td>6 wk ahead inc death</td>\n",
       "      <td>2021-01-30</td>\n",
       "      <td>NA</td>\n",
       "      <td>point</td>\n",
       "      <td>US</td>\n",
       "      <td>60496.684438</td>\n",
       "    </tr>\n",
       "    <tr>\n",
       "      <th>51</th>\n",
       "      <td>2020-12-20</td>\n",
       "      <td>7 wk ahead inc death</td>\n",
       "      <td>2021-02-06</td>\n",
       "      <td>NA</td>\n",
       "      <td>point</td>\n",
       "      <td>US</td>\n",
       "      <td>73138.665019</td>\n",
       "    </tr>\n",
       "    <tr>\n",
       "      <th>52</th>\n",
       "      <td>2020-12-20</td>\n",
       "      <td>8 wk ahead inc death</td>\n",
       "      <td>2021-02-13</td>\n",
       "      <td>NA</td>\n",
       "      <td>point</td>\n",
       "      <td>US</td>\n",
       "      <td>88422.437866</td>\n",
       "    </tr>\n",
       "    <tr>\n",
       "      <th>45</th>\n",
       "      <td>2020-12-20</td>\n",
       "      <td>1 wk ahead cum death</td>\n",
       "      <td>2020-12-26</td>\n",
       "      <td>NA</td>\n",
       "      <td>point</td>\n",
       "      <td>US</td>\n",
       "      <td>339582.635211</td>\n",
       "    </tr>\n",
       "    <tr>\n",
       "      <th>46</th>\n",
       "      <td>2020-12-20</td>\n",
       "      <td>2 wk ahead cum death</td>\n",
       "      <td>2021-01-02</td>\n",
       "      <td>NA</td>\n",
       "      <td>point</td>\n",
       "      <td>US</td>\n",
       "      <td>367901.102995</td>\n",
       "    </tr>\n",
       "    <tr>\n",
       "      <th>47</th>\n",
       "      <td>2020-12-20</td>\n",
       "      <td>3 wk ahead cum death</td>\n",
       "      <td>2021-01-09</td>\n",
       "      <td>NA</td>\n",
       "      <td>point</td>\n",
       "      <td>US</td>\n",
       "      <td>402137.275577</td>\n",
       "    </tr>\n",
       "    <tr>\n",
       "      <th>48</th>\n",
       "      <td>2020-12-20</td>\n",
       "      <td>4 wk ahead cum death</td>\n",
       "      <td>2021-01-16</td>\n",
       "      <td>NA</td>\n",
       "      <td>point</td>\n",
       "      <td>US</td>\n",
       "      <td>443527.774598</td>\n",
       "    </tr>\n",
       "    <tr>\n",
       "      <th>49</th>\n",
       "      <td>2020-12-20</td>\n",
       "      <td>5 wk ahead cum death</td>\n",
       "      <td>2021-01-23</td>\n",
       "      <td>NA</td>\n",
       "      <td>point</td>\n",
       "      <td>US</td>\n",
       "      <td>493567.638287</td>\n",
       "    </tr>\n",
       "    <tr>\n",
       "      <th>50</th>\n",
       "      <td>2020-12-20</td>\n",
       "      <td>6 wk ahead cum death</td>\n",
       "      <td>2021-01-30</td>\n",
       "      <td>NA</td>\n",
       "      <td>point</td>\n",
       "      <td>US</td>\n",
       "      <td>554064.322725</td>\n",
       "    </tr>\n",
       "    <tr>\n",
       "      <th>51</th>\n",
       "      <td>2020-12-20</td>\n",
       "      <td>7 wk ahead cum death</td>\n",
       "      <td>2021-02-06</td>\n",
       "      <td>NA</td>\n",
       "      <td>point</td>\n",
       "      <td>US</td>\n",
       "      <td>627202.987744</td>\n",
       "    </tr>\n",
       "    <tr>\n",
       "      <th>52</th>\n",
       "      <td>2020-12-20</td>\n",
       "      <td>8 wk ahead cum death</td>\n",
       "      <td>2021-02-13</td>\n",
       "      <td>NA</td>\n",
       "      <td>point</td>\n",
       "      <td>US</td>\n",
       "      <td>715625.425610</td>\n",
       "    </tr>\n",
       "  </tbody>\n",
       "</table>\n",
       "</div>"
      ],
      "text/plain": [
       "   forecast_date                target target_end_date quantile   type  \\\n",
       "45    2020-12-20  1 wk ahead inc death      2020-12-26       NA  point   \n",
       "46    2020-12-20  2 wk ahead inc death      2021-01-02       NA  point   \n",
       "47    2020-12-20  3 wk ahead inc death      2021-01-09       NA  point   \n",
       "48    2020-12-20  4 wk ahead inc death      2021-01-16       NA  point   \n",
       "49    2020-12-20  5 wk ahead inc death      2021-01-23       NA  point   \n",
       "50    2020-12-20  6 wk ahead inc death      2021-01-30       NA  point   \n",
       "51    2020-12-20  7 wk ahead inc death      2021-02-06       NA  point   \n",
       "52    2020-12-20  8 wk ahead inc death      2021-02-13       NA  point   \n",
       "45    2020-12-20  1 wk ahead cum death      2020-12-26       NA  point   \n",
       "46    2020-12-20  2 wk ahead cum death      2021-01-02       NA  point   \n",
       "47    2020-12-20  3 wk ahead cum death      2021-01-09       NA  point   \n",
       "48    2020-12-20  4 wk ahead cum death      2021-01-16       NA  point   \n",
       "49    2020-12-20  5 wk ahead cum death      2021-01-23       NA  point   \n",
       "50    2020-12-20  6 wk ahead cum death      2021-01-30       NA  point   \n",
       "51    2020-12-20  7 wk ahead cum death      2021-02-06       NA  point   \n",
       "52    2020-12-20  8 wk ahead cum death      2021-02-13       NA  point   \n",
       "\n",
       "   location          value  \n",
       "45       US   23423.635211  \n",
       "46       US   28318.467783  \n",
       "47       US   34236.172582  \n",
       "48       US   41390.499022  \n",
       "49       US   50039.863689  \n",
       "50       US   60496.684438  \n",
       "51       US   73138.665019  \n",
       "52       US   88422.437866  \n",
       "45       US  339582.635211  \n",
       "46       US  367901.102995  \n",
       "47       US  402137.275577  \n",
       "48       US  443527.774598  \n",
       "49       US  493567.638287  \n",
       "50       US  554064.322725  \n",
       "51       US  627202.987744  \n",
       "52       US  715625.425610  "
      ]
     },
     "execution_count": 194,
     "metadata": {},
     "output_type": "execute_result"
    }
   ],
   "source": [
    "US_forecast"
   ]
  },
  {
   "cell_type": "code",
   "execution_count": 188,
   "metadata": {},
   "outputs": [],
   "source": [
    "def add_cum_forecast(inc_forecast, last_epi_week_cum):\n",
    "    cum_forecast = inc_forecast.copy()\n",
    "    cum_forecast['value'] = cum_forecast.value.cumsum()+last_epi_week_cum\n",
    "    cum_forecast['target'] = cum_forecast.target.str.replace('inc', 'cum')\n",
    "    return pd.concat([inc_forecast, cum_forecast])"
   ]
  },
  {
   "cell_type": "code",
   "execution_count": 189,
   "metadata": {},
   "outputs": [],
   "source": [
    "last_epiweek_enddate = get_epiweek_enddate(forecast_date+epiweeks.timedelta(-7))"
   ]
  },
  {
   "cell_type": "code",
   "execution_count": 190,
   "metadata": {},
   "outputs": [],
   "source": [
    "latest_cum_US = mu.get_data_by_country('US').loc[last_epiweek_enddate][0]"
   ]
  },
  {
   "cell_type": "code",
   "execution_count": 191,
   "metadata": {},
   "outputs": [],
   "source": [
    "US_forecast = add_cum_forecast(US_forecast, latest_cum_US)"
   ]
  },
  {
   "cell_type": "code",
   "execution_count": 192,
   "metadata": {},
   "outputs": [
    {
     "data": {
      "text/plain": [
       "316159.0"
      ]
     },
     "execution_count": 192,
     "metadata": {},
     "output_type": "execute_result"
    }
   ],
   "source": [
    "latest_cum_US"
   ]
  },
  {
   "cell_type": "code",
   "execution_count": 193,
   "metadata": {},
   "outputs": [],
   "source": [
    "US_state_list = mu.get_data(scope='US', type='deaths').State.unique()"
   ]
  },
  {
   "cell_type": "code",
   "execution_count": 195,
   "metadata": {},
   "outputs": [
    {
     "name": "stdout",
     "output_type": "stream",
     "text": [
      "Alabama\n"
     ]
    },
    {
     "name": "stderr",
     "output_type": "stream",
     "text": [
      "/home/quoc/bitbucket/covid-19/prognosis/model_utils.py:247: RuntimeWarning: divide by zero encountered in log\n",
      "  log_daily_death = np.log(daily_local_death_new)\n",
      "/home/quoc/bitbucket/covid-19/prognosis/model_utils.py:247: RuntimeWarning: invalid value encountered in log\n",
      "  log_daily_death = np.log(daily_local_death_new)\n"
     ]
    },
    {
     "name": "stdout",
     "output_type": "stream",
     "text": [
      "Alaska\n"
     ]
    },
    {
     "name": "stderr",
     "output_type": "stream",
     "text": [
      "/home/quoc/bitbucket/covid-19/prognosis/model_utils.py:247: RuntimeWarning: divide by zero encountered in log\n",
      "  log_daily_death = np.log(daily_local_death_new)\n"
     ]
    },
    {
     "name": "stdout",
     "output_type": "stream",
     "text": [
      "American Samoa\n",
      "Arizona\n"
     ]
    },
    {
     "name": "stderr",
     "output_type": "stream",
     "text": [
      "/home/quoc/bitbucket/covid-19/prognosis/model_utils.py:247: RuntimeWarning: divide by zero encountered in log\n",
      "  log_daily_death = np.log(daily_local_death_new)\n"
     ]
    },
    {
     "name": "stdout",
     "output_type": "stream",
     "text": [
      "Arkansas\n"
     ]
    },
    {
     "name": "stderr",
     "output_type": "stream",
     "text": [
      "/home/quoc/bitbucket/covid-19/prognosis/model_utils.py:247: RuntimeWarning: divide by zero encountered in log\n",
      "  log_daily_death = np.log(daily_local_death_new)\n"
     ]
    },
    {
     "name": "stdout",
     "output_type": "stream",
     "text": [
      "California\n"
     ]
    },
    {
     "name": "stderr",
     "output_type": "stream",
     "text": [
      "/home/quoc/bitbucket/covid-19/prognosis/model_utils.py:247: RuntimeWarning: divide by zero encountered in log\n",
      "  log_daily_death = np.log(daily_local_death_new)\n",
      "/home/quoc/bitbucket/covid-19/prognosis/model_utils.py:247: RuntimeWarning: invalid value encountered in log\n",
      "  log_daily_death = np.log(daily_local_death_new)\n"
     ]
    },
    {
     "name": "stdout",
     "output_type": "stream",
     "text": [
      "Colorado\n"
     ]
    },
    {
     "name": "stderr",
     "output_type": "stream",
     "text": [
      "/home/quoc/bitbucket/covid-19/prognosis/model_utils.py:247: RuntimeWarning: divide by zero encountered in log\n",
      "  log_daily_death = np.log(daily_local_death_new)\n",
      "/home/quoc/bitbucket/covid-19/prognosis/model_utils.py:247: RuntimeWarning: invalid value encountered in log\n",
      "  log_daily_death = np.log(daily_local_death_new)\n"
     ]
    },
    {
     "name": "stdout",
     "output_type": "stream",
     "text": [
      "Connecticut\n"
     ]
    },
    {
     "name": "stderr",
     "output_type": "stream",
     "text": [
      "/home/quoc/bitbucket/covid-19/prognosis/model_utils.py:247: RuntimeWarning: divide by zero encountered in log\n",
      "  log_daily_death = np.log(daily_local_death_new)\n"
     ]
    },
    {
     "name": "stdout",
     "output_type": "stream",
     "text": [
      "Delaware\n"
     ]
    },
    {
     "name": "stderr",
     "output_type": "stream",
     "text": [
      "/home/quoc/bitbucket/covid-19/prognosis/model_utils.py:247: RuntimeWarning: divide by zero encountered in log\n",
      "  log_daily_death = np.log(daily_local_death_new)\n"
     ]
    },
    {
     "name": "stdout",
     "output_type": "stream",
     "text": [
      "Diamond Princess\n",
      "District of Columbia\n"
     ]
    },
    {
     "name": "stderr",
     "output_type": "stream",
     "text": [
      "/home/quoc/bitbucket/covid-19/prognosis/model_utils.py:247: RuntimeWarning: divide by zero encountered in log\n",
      "  log_daily_death = np.log(daily_local_death_new)\n"
     ]
    },
    {
     "name": "stdout",
     "output_type": "stream",
     "text": [
      "Florida\n"
     ]
    },
    {
     "name": "stderr",
     "output_type": "stream",
     "text": [
      "/home/quoc/bitbucket/covid-19/prognosis/model_utils.py:247: RuntimeWarning: divide by zero encountered in log\n",
      "  log_daily_death = np.log(daily_local_death_new)\n"
     ]
    },
    {
     "name": "stdout",
     "output_type": "stream",
     "text": [
      "Georgia\n"
     ]
    },
    {
     "name": "stderr",
     "output_type": "stream",
     "text": [
      "/home/quoc/bitbucket/covid-19/prognosis/model_utils.py:247: RuntimeWarning: divide by zero encountered in log\n",
      "  log_daily_death = np.log(daily_local_death_new)\n"
     ]
    },
    {
     "name": "stdout",
     "output_type": "stream",
     "text": [
      "Grand Princess\n"
     ]
    },
    {
     "name": "stderr",
     "output_type": "stream",
     "text": [
      "/home/quoc/bitbucket/covid-19/prognosis/model_utils.py:247: RuntimeWarning: divide by zero encountered in log\n",
      "  log_daily_death = np.log(daily_local_death_new)\n"
     ]
    },
    {
     "name": "stdout",
     "output_type": "stream",
     "text": [
      "Guam\n"
     ]
    },
    {
     "name": "stderr",
     "output_type": "stream",
     "text": [
      "/home/quoc/bitbucket/covid-19/prognosis/model_utils.py:247: RuntimeWarning: divide by zero encountered in log\n",
      "  log_daily_death = np.log(daily_local_death_new)\n"
     ]
    },
    {
     "name": "stdout",
     "output_type": "stream",
     "text": [
      "Hawaii\n"
     ]
    },
    {
     "name": "stderr",
     "output_type": "stream",
     "text": [
      "/home/quoc/bitbucket/covid-19/prognosis/model_utils.py:247: RuntimeWarning: divide by zero encountered in log\n",
      "  log_daily_death = np.log(daily_local_death_new)\n"
     ]
    },
    {
     "name": "stdout",
     "output_type": "stream",
     "text": [
      "Idaho\n"
     ]
    },
    {
     "name": "stderr",
     "output_type": "stream",
     "text": [
      "/home/quoc/bitbucket/covid-19/prognosis/model_utils.py:247: RuntimeWarning: divide by zero encountered in log\n",
      "  log_daily_death = np.log(daily_local_death_new)\n"
     ]
    },
    {
     "name": "stdout",
     "output_type": "stream",
     "text": [
      "Illinois\n"
     ]
    },
    {
     "name": "stderr",
     "output_type": "stream",
     "text": [
      "/home/quoc/bitbucket/covid-19/prognosis/model_utils.py:247: RuntimeWarning: divide by zero encountered in log\n",
      "  log_daily_death = np.log(daily_local_death_new)\n"
     ]
    },
    {
     "name": "stdout",
     "output_type": "stream",
     "text": [
      "Indiana\n"
     ]
    },
    {
     "name": "stderr",
     "output_type": "stream",
     "text": [
      "/home/quoc/bitbucket/covid-19/prognosis/model_utils.py:247: RuntimeWarning: divide by zero encountered in log\n",
      "  log_daily_death = np.log(daily_local_death_new)\n"
     ]
    },
    {
     "name": "stdout",
     "output_type": "stream",
     "text": [
      "Iowa\n"
     ]
    },
    {
     "name": "stderr",
     "output_type": "stream",
     "text": [
      "/home/quoc/bitbucket/covid-19/prognosis/model_utils.py:247: RuntimeWarning: divide by zero encountered in log\n",
      "  log_daily_death = np.log(daily_local_death_new)\n"
     ]
    },
    {
     "name": "stdout",
     "output_type": "stream",
     "text": [
      "Kansas\n"
     ]
    },
    {
     "name": "stderr",
     "output_type": "stream",
     "text": [
      "/home/quoc/bitbucket/covid-19/prognosis/model_utils.py:247: RuntimeWarning: divide by zero encountered in log\n",
      "  log_daily_death = np.log(daily_local_death_new)\n"
     ]
    },
    {
     "name": "stdout",
     "output_type": "stream",
     "text": [
      "Kentucky\n"
     ]
    },
    {
     "name": "stderr",
     "output_type": "stream",
     "text": [
      "/home/quoc/bitbucket/covid-19/prognosis/model_utils.py:247: RuntimeWarning: divide by zero encountered in log\n",
      "  log_daily_death = np.log(daily_local_death_new)\n"
     ]
    },
    {
     "name": "stdout",
     "output_type": "stream",
     "text": [
      "Louisiana\n"
     ]
    },
    {
     "name": "stderr",
     "output_type": "stream",
     "text": [
      "/home/quoc/bitbucket/covid-19/prognosis/model_utils.py:247: RuntimeWarning: divide by zero encountered in log\n",
      "  log_daily_death = np.log(daily_local_death_new)\n"
     ]
    },
    {
     "name": "stdout",
     "output_type": "stream",
     "text": [
      "Maine\n"
     ]
    },
    {
     "name": "stderr",
     "output_type": "stream",
     "text": [
      "/home/quoc/bitbucket/covid-19/prognosis/model_utils.py:247: RuntimeWarning: divide by zero encountered in log\n",
      "  log_daily_death = np.log(daily_local_death_new)\n"
     ]
    },
    {
     "name": "stdout",
     "output_type": "stream",
     "text": [
      "Maryland\n"
     ]
    },
    {
     "name": "stderr",
     "output_type": "stream",
     "text": [
      "/home/quoc/bitbucket/covid-19/prognosis/model_utils.py:247: RuntimeWarning: divide by zero encountered in log\n",
      "  log_daily_death = np.log(daily_local_death_new)\n"
     ]
    },
    {
     "name": "stdout",
     "output_type": "stream",
     "text": [
      "Massachusetts\n"
     ]
    },
    {
     "name": "stderr",
     "output_type": "stream",
     "text": [
      "/home/quoc/bitbucket/covid-19/prognosis/model_utils.py:247: RuntimeWarning: divide by zero encountered in log\n",
      "  log_daily_death = np.log(daily_local_death_new)\n"
     ]
    },
    {
     "name": "stdout",
     "output_type": "stream",
     "text": [
      "Michigan\n"
     ]
    },
    {
     "name": "stderr",
     "output_type": "stream",
     "text": [
      "/home/quoc/bitbucket/covid-19/prognosis/model_utils.py:247: RuntimeWarning: divide by zero encountered in log\n",
      "  log_daily_death = np.log(daily_local_death_new)\n"
     ]
    },
    {
     "name": "stdout",
     "output_type": "stream",
     "text": [
      "Minnesota\n"
     ]
    },
    {
     "name": "stderr",
     "output_type": "stream",
     "text": [
      "/home/quoc/bitbucket/covid-19/prognosis/model_utils.py:247: RuntimeWarning: divide by zero encountered in log\n",
      "  log_daily_death = np.log(daily_local_death_new)\n",
      "/home/quoc/bitbucket/covid-19/prognosis/model_utils.py:247: RuntimeWarning: invalid value encountered in log\n",
      "  log_daily_death = np.log(daily_local_death_new)\n"
     ]
    },
    {
     "name": "stdout",
     "output_type": "stream",
     "text": [
      "Mississippi\n"
     ]
    },
    {
     "name": "stderr",
     "output_type": "stream",
     "text": [
      "/home/quoc/bitbucket/covid-19/prognosis/model_utils.py:247: RuntimeWarning: divide by zero encountered in log\n",
      "  log_daily_death = np.log(daily_local_death_new)\n"
     ]
    },
    {
     "name": "stdout",
     "output_type": "stream",
     "text": [
      "Missouri\n"
     ]
    },
    {
     "name": "stderr",
     "output_type": "stream",
     "text": [
      "/home/quoc/bitbucket/covid-19/prognosis/model_utils.py:247: RuntimeWarning: divide by zero encountered in log\n",
      "  log_daily_death = np.log(daily_local_death_new)\n"
     ]
    },
    {
     "name": "stdout",
     "output_type": "stream",
     "text": [
      "Montana\n"
     ]
    },
    {
     "name": "stderr",
     "output_type": "stream",
     "text": [
      "/home/quoc/bitbucket/covid-19/prognosis/model_utils.py:247: RuntimeWarning: divide by zero encountered in log\n",
      "  log_daily_death = np.log(daily_local_death_new)\n"
     ]
    },
    {
     "name": "stdout",
     "output_type": "stream",
     "text": [
      "Nebraska\n"
     ]
    },
    {
     "name": "stderr",
     "output_type": "stream",
     "text": [
      "/home/quoc/bitbucket/covid-19/prognosis/model_utils.py:247: RuntimeWarning: divide by zero encountered in log\n",
      "  log_daily_death = np.log(daily_local_death_new)\n",
      "/home/quoc/bitbucket/covid-19/prognosis/model_utils.py:247: RuntimeWarning: invalid value encountered in log\n",
      "  log_daily_death = np.log(daily_local_death_new)\n"
     ]
    },
    {
     "name": "stdout",
     "output_type": "stream",
     "text": [
      "Nevada\n"
     ]
    },
    {
     "name": "stderr",
     "output_type": "stream",
     "text": [
      "/home/quoc/bitbucket/covid-19/prognosis/model_utils.py:247: RuntimeWarning: divide by zero encountered in log\n",
      "  log_daily_death = np.log(daily_local_death_new)\n",
      "/home/quoc/bitbucket/covid-19/prognosis/model_utils.py:247: RuntimeWarning: invalid value encountered in log\n",
      "  log_daily_death = np.log(daily_local_death_new)\n"
     ]
    },
    {
     "name": "stdout",
     "output_type": "stream",
     "text": [
      "New Hampshire\n"
     ]
    },
    {
     "name": "stderr",
     "output_type": "stream",
     "text": [
      "/home/quoc/bitbucket/covid-19/prognosis/model_utils.py:247: RuntimeWarning: divide by zero encountered in log\n",
      "  log_daily_death = np.log(daily_local_death_new)\n"
     ]
    },
    {
     "name": "stdout",
     "output_type": "stream",
     "text": [
      "New Jersey\n"
     ]
    },
    {
     "name": "stderr",
     "output_type": "stream",
     "text": [
      "/home/quoc/bitbucket/covid-19/prognosis/model_utils.py:247: RuntimeWarning: divide by zero encountered in log\n",
      "  log_daily_death = np.log(daily_local_death_new)\n",
      "/home/quoc/bitbucket/covid-19/prognosis/model_utils.py:247: RuntimeWarning: invalid value encountered in log\n",
      "  log_daily_death = np.log(daily_local_death_new)\n"
     ]
    },
    {
     "name": "stdout",
     "output_type": "stream",
     "text": [
      "New Mexico\n"
     ]
    },
    {
     "name": "stderr",
     "output_type": "stream",
     "text": [
      "/home/quoc/bitbucket/covid-19/prognosis/model_utils.py:247: RuntimeWarning: divide by zero encountered in log\n",
      "  log_daily_death = np.log(daily_local_death_new)\n"
     ]
    },
    {
     "name": "stdout",
     "output_type": "stream",
     "text": [
      "New York\n"
     ]
    },
    {
     "name": "stderr",
     "output_type": "stream",
     "text": [
      "/home/quoc/bitbucket/covid-19/prognosis/model_utils.py:247: RuntimeWarning: divide by zero encountered in log\n",
      "  log_daily_death = np.log(daily_local_death_new)\n",
      "/home/quoc/bitbucket/covid-19/prognosis/model_utils.py:247: RuntimeWarning: invalid value encountered in log\n",
      "  log_daily_death = np.log(daily_local_death_new)\n"
     ]
    },
    {
     "name": "stdout",
     "output_type": "stream",
     "text": [
      "North Carolina\n"
     ]
    },
    {
     "name": "stderr",
     "output_type": "stream",
     "text": [
      "/home/quoc/bitbucket/covid-19/prognosis/model_utils.py:247: RuntimeWarning: divide by zero encountered in log\n",
      "  log_daily_death = np.log(daily_local_death_new)\n"
     ]
    },
    {
     "name": "stdout",
     "output_type": "stream",
     "text": [
      "North Dakota\n"
     ]
    },
    {
     "name": "stderr",
     "output_type": "stream",
     "text": [
      "/home/quoc/bitbucket/covid-19/prognosis/model_utils.py:247: RuntimeWarning: divide by zero encountered in log\n",
      "  log_daily_death = np.log(daily_local_death_new)\n"
     ]
    },
    {
     "name": "stdout",
     "output_type": "stream",
     "text": [
      "Northern Mariana Islands\n"
     ]
    },
    {
     "name": "stderr",
     "output_type": "stream",
     "text": [
      "/home/quoc/bitbucket/covid-19/prognosis/model_utils.py:247: RuntimeWarning: divide by zero encountered in log\n",
      "  log_daily_death = np.log(daily_local_death_new)\n"
     ]
    },
    {
     "name": "stdout",
     "output_type": "stream",
     "text": [
      "Ohio\n"
     ]
    },
    {
     "name": "stderr",
     "output_type": "stream",
     "text": [
      "/home/quoc/bitbucket/covid-19/prognosis/model_utils.py:247: RuntimeWarning: divide by zero encountered in log\n",
      "  log_daily_death = np.log(daily_local_death_new)\n"
     ]
    },
    {
     "name": "stdout",
     "output_type": "stream",
     "text": [
      "Oklahoma\n"
     ]
    },
    {
     "name": "stderr",
     "output_type": "stream",
     "text": [
      "/home/quoc/bitbucket/covid-19/prognosis/model_utils.py:247: RuntimeWarning: divide by zero encountered in log\n",
      "  log_daily_death = np.log(daily_local_death_new)\n",
      "/home/quoc/bitbucket/covid-19/prognosis/model_utils.py:247: RuntimeWarning: invalid value encountered in log\n",
      "  log_daily_death = np.log(daily_local_death_new)\n"
     ]
    },
    {
     "name": "stdout",
     "output_type": "stream",
     "text": [
      "Oregon\n"
     ]
    },
    {
     "name": "stderr",
     "output_type": "stream",
     "text": [
      "/home/quoc/bitbucket/covid-19/prognosis/model_utils.py:247: RuntimeWarning: divide by zero encountered in log\n",
      "  log_daily_death = np.log(daily_local_death_new)\n"
     ]
    },
    {
     "name": "stdout",
     "output_type": "stream",
     "text": [
      "Pennsylvania\n"
     ]
    },
    {
     "name": "stderr",
     "output_type": "stream",
     "text": [
      "/home/quoc/bitbucket/covid-19/prognosis/model_utils.py:247: RuntimeWarning: divide by zero encountered in log\n",
      "  log_daily_death = np.log(daily_local_death_new)\n"
     ]
    },
    {
     "name": "stdout",
     "output_type": "stream",
     "text": [
      "Puerto Rico\n"
     ]
    },
    {
     "name": "stderr",
     "output_type": "stream",
     "text": [
      "/home/quoc/bitbucket/covid-19/prognosis/model_utils.py:247: RuntimeWarning: divide by zero encountered in log\n",
      "  log_daily_death = np.log(daily_local_death_new)\n"
     ]
    },
    {
     "name": "stdout",
     "output_type": "stream",
     "text": [
      "Rhode Island\n"
     ]
    },
    {
     "name": "stderr",
     "output_type": "stream",
     "text": [
      "/home/quoc/bitbucket/covid-19/prognosis/model_utils.py:247: RuntimeWarning: divide by zero encountered in log\n",
      "  log_daily_death = np.log(daily_local_death_new)\n"
     ]
    },
    {
     "name": "stdout",
     "output_type": "stream",
     "text": [
      "South Carolina\n"
     ]
    },
    {
     "name": "stderr",
     "output_type": "stream",
     "text": [
      "/home/quoc/bitbucket/covid-19/prognosis/model_utils.py:247: RuntimeWarning: divide by zero encountered in log\n",
      "  log_daily_death = np.log(daily_local_death_new)\n"
     ]
    },
    {
     "name": "stdout",
     "output_type": "stream",
     "text": [
      "South Dakota\n"
     ]
    },
    {
     "name": "stderr",
     "output_type": "stream",
     "text": [
      "/home/quoc/bitbucket/covid-19/prognosis/model_utils.py:247: RuntimeWarning: divide by zero encountered in log\n",
      "  log_daily_death = np.log(daily_local_death_new)\n"
     ]
    },
    {
     "name": "stdout",
     "output_type": "stream",
     "text": [
      "Tennessee\n"
     ]
    },
    {
     "name": "stderr",
     "output_type": "stream",
     "text": [
      "/home/quoc/bitbucket/covid-19/prognosis/model_utils.py:247: RuntimeWarning: divide by zero encountered in log\n",
      "  log_daily_death = np.log(daily_local_death_new)\n"
     ]
    },
    {
     "name": "stdout",
     "output_type": "stream",
     "text": [
      "Texas\n"
     ]
    },
    {
     "name": "stderr",
     "output_type": "stream",
     "text": [
      "/home/quoc/bitbucket/covid-19/prognosis/model_utils.py:247: RuntimeWarning: divide by zero encountered in log\n",
      "  log_daily_death = np.log(daily_local_death_new)\n"
     ]
    },
    {
     "name": "stdout",
     "output_type": "stream",
     "text": [
      "Utah\n"
     ]
    },
    {
     "name": "stderr",
     "output_type": "stream",
     "text": [
      "/home/quoc/bitbucket/covid-19/prognosis/model_utils.py:247: RuntimeWarning: divide by zero encountered in log\n",
      "  log_daily_death = np.log(daily_local_death_new)\n",
      "/home/quoc/bitbucket/covid-19/prognosis/model_utils.py:247: RuntimeWarning: invalid value encountered in log\n",
      "  log_daily_death = np.log(daily_local_death_new)\n"
     ]
    },
    {
     "name": "stdout",
     "output_type": "stream",
     "text": [
      "Vermont\n"
     ]
    },
    {
     "name": "stderr",
     "output_type": "stream",
     "text": [
      "/home/quoc/bitbucket/covid-19/prognosis/model_utils.py:247: RuntimeWarning: divide by zero encountered in log\n",
      "  log_daily_death = np.log(daily_local_death_new)\n",
      "/home/quoc/bitbucket/covid-19/prognosis/model_utils.py:247: RuntimeWarning: invalid value encountered in log\n",
      "  log_daily_death = np.log(daily_local_death_new)\n"
     ]
    },
    {
     "name": "stdout",
     "output_type": "stream",
     "text": [
      "Virgin Islands\n"
     ]
    },
    {
     "name": "stderr",
     "output_type": "stream",
     "text": [
      "/home/quoc/bitbucket/covid-19/prognosis/model_utils.py:247: RuntimeWarning: divide by zero encountered in log\n",
      "  log_daily_death = np.log(daily_local_death_new)\n"
     ]
    },
    {
     "name": "stdout",
     "output_type": "stream",
     "text": [
      "Virginia\n"
     ]
    },
    {
     "name": "stderr",
     "output_type": "stream",
     "text": [
      "/home/quoc/bitbucket/covid-19/prognosis/model_utils.py:247: RuntimeWarning: divide by zero encountered in log\n",
      "  log_daily_death = np.log(daily_local_death_new)\n"
     ]
    },
    {
     "name": "stdout",
     "output_type": "stream",
     "text": [
      "Washington\n"
     ]
    },
    {
     "name": "stderr",
     "output_type": "stream",
     "text": [
      "/home/quoc/bitbucket/covid-19/prognosis/model_utils.py:247: RuntimeWarning: divide by zero encountered in log\n",
      "  log_daily_death = np.log(daily_local_death_new)\n",
      "/home/quoc/bitbucket/covid-19/prognosis/model_utils.py:247: RuntimeWarning: invalid value encountered in log\n",
      "  log_daily_death = np.log(daily_local_death_new)\n"
     ]
    },
    {
     "name": "stdout",
     "output_type": "stream",
     "text": [
      "West Virginia\n"
     ]
    },
    {
     "name": "stderr",
     "output_type": "stream",
     "text": [
      "/home/quoc/bitbucket/covid-19/prognosis/model_utils.py:247: RuntimeWarning: divide by zero encountered in log\n",
      "  log_daily_death = np.log(daily_local_death_new)\n"
     ]
    },
    {
     "name": "stdout",
     "output_type": "stream",
     "text": [
      "Wisconsin\n"
     ]
    },
    {
     "name": "stderr",
     "output_type": "stream",
     "text": [
      "/home/quoc/bitbucket/covid-19/prognosis/model_utils.py:247: RuntimeWarning: divide by zero encountered in log\n",
      "  log_daily_death = np.log(daily_local_death_new)\n"
     ]
    },
    {
     "name": "stdout",
     "output_type": "stream",
     "text": [
      "Wyoming\n"
     ]
    },
    {
     "name": "stderr",
     "output_type": "stream",
     "text": [
      "/home/quoc/bitbucket/covid-19/prognosis/model_utils.py:247: RuntimeWarning: divide by zero encountered in log\n",
      "  log_daily_death = np.log(daily_local_death_new)\n",
      "/home/quoc/bitbucket/covid-19/prognosis/model_utils.py:247: RuntimeWarning: invalid value encountered in log\n",
      "  log_daily_death = np.log(daily_local_death_new)\n"
     ]
    }
   ],
   "source": [
    "for state in US_state_list:\n",
    "    try:\n",
    "        print(state)\n",
    "        state_forecast = generate_formatted_forecast('US', state, '2020-12-20').query('target!=\"9 wk ahead inc death\"')\n",
    "        latest_cum_state = mu.get_data_by_state(state).loc[last_epiweek_enddate][0]\n",
    "        state_forecast = add_cum_forecast(state_forecast, latest_cum_state)\n",
    "        US_forecast = pd.concat([US_forecast, state_forecast])\n",
    "    except (ValueError, IndexError):\n",
    "        pass"
   ]
  },
  {
   "cell_type": "code",
   "execution_count": 198,
   "metadata": {},
   "outputs": [
    {
     "data": {
      "text/html": [
       "<div>\n",
       "<style scoped>\n",
       "    .dataframe tbody tr th:only-of-type {\n",
       "        vertical-align: middle;\n",
       "    }\n",
       "\n",
       "    .dataframe tbody tr th {\n",
       "        vertical-align: top;\n",
       "    }\n",
       "\n",
       "    .dataframe thead th {\n",
       "        text-align: right;\n",
       "    }\n",
       "</style>\n",
       "<table border=\"1\" class=\"dataframe\">\n",
       "  <thead>\n",
       "    <tr style=\"text-align: right;\">\n",
       "      <th></th>\n",
       "      <th>forecast_date</th>\n",
       "      <th>target</th>\n",
       "      <th>target_end_date</th>\n",
       "      <th>quantile</th>\n",
       "      <th>type</th>\n",
       "      <th>location</th>\n",
       "      <th>value</th>\n",
       "    </tr>\n",
       "  </thead>\n",
       "  <tbody>\n",
       "    <tr>\n",
       "      <th>49</th>\n",
       "      <td>2020-12-20</td>\n",
       "      <td>5 wk ahead inc death</td>\n",
       "      <td>2021-01-23</td>\n",
       "      <td>NA</td>\n",
       "      <td>point</td>\n",
       "      <td>53</td>\n",
       "      <td>92.768179</td>\n",
       "    </tr>\n",
       "    <tr>\n",
       "      <th>50</th>\n",
       "      <td>2020-12-20</td>\n",
       "      <td>6 wk ahead inc death</td>\n",
       "      <td>2021-01-30</td>\n",
       "      <td>NA</td>\n",
       "      <td>point</td>\n",
       "      <td>53</td>\n",
       "      <td>95.133051</td>\n",
       "    </tr>\n",
       "    <tr>\n",
       "      <th>51</th>\n",
       "      <td>2020-12-20</td>\n",
       "      <td>7 wk ahead inc death</td>\n",
       "      <td>2021-02-06</td>\n",
       "      <td>NA</td>\n",
       "      <td>point</td>\n",
       "      <td>53</td>\n",
       "      <td>97.558209</td>\n",
       "    </tr>\n",
       "    <tr>\n",
       "      <th>52</th>\n",
       "      <td>2020-12-20</td>\n",
       "      <td>8 wk ahead inc death</td>\n",
       "      <td>2021-02-13</td>\n",
       "      <td>NA</td>\n",
       "      <td>point</td>\n",
       "      <td>53</td>\n",
       "      <td>100.045190</td>\n",
       "    </tr>\n",
       "    <tr>\n",
       "      <th>45</th>\n",
       "      <td>2020-12-20</td>\n",
       "      <td>1 wk ahead cum death</td>\n",
       "      <td>2020-12-26</td>\n",
       "      <td>NA</td>\n",
       "      <td>point</td>\n",
       "      <td>53</td>\n",
       "      <td>3187.882131</td>\n",
       "    </tr>\n",
       "    <tr>\n",
       "      <th>46</th>\n",
       "      <td>2020-12-20</td>\n",
       "      <td>2 wk ahead cum death</td>\n",
       "      <td>2021-01-02</td>\n",
       "      <td>NA</td>\n",
       "      <td>point</td>\n",
       "      <td>53</td>\n",
       "      <td>3273.902609</td>\n",
       "    </tr>\n",
       "    <tr>\n",
       "      <th>47</th>\n",
       "      <td>2020-12-20</td>\n",
       "      <td>3 wk ahead cum death</td>\n",
       "      <td>2021-01-09</td>\n",
       "      <td>NA</td>\n",
       "      <td>point</td>\n",
       "      <td>53</td>\n",
       "      <td>3362.115945</td>\n",
       "    </tr>\n",
       "    <tr>\n",
       "      <th>48</th>\n",
       "      <td>2020-12-20</td>\n",
       "      <td>4 wk ahead cum death</td>\n",
       "      <td>2021-01-16</td>\n",
       "      <td>NA</td>\n",
       "      <td>point</td>\n",
       "      <td>53</td>\n",
       "      <td>3452.578039</td>\n",
       "    </tr>\n",
       "    <tr>\n",
       "      <th>49</th>\n",
       "      <td>2020-12-20</td>\n",
       "      <td>5 wk ahead cum death</td>\n",
       "      <td>2021-01-23</td>\n",
       "      <td>NA</td>\n",
       "      <td>point</td>\n",
       "      <td>53</td>\n",
       "      <td>3545.346218</td>\n",
       "    </tr>\n",
       "    <tr>\n",
       "      <th>50</th>\n",
       "      <td>2020-12-20</td>\n",
       "      <td>6 wk ahead cum death</td>\n",
       "      <td>2021-01-30</td>\n",
       "      <td>NA</td>\n",
       "      <td>point</td>\n",
       "      <td>53</td>\n",
       "      <td>3640.479269</td>\n",
       "    </tr>\n",
       "    <tr>\n",
       "      <th>51</th>\n",
       "      <td>2020-12-20</td>\n",
       "      <td>7 wk ahead cum death</td>\n",
       "      <td>2021-02-06</td>\n",
       "      <td>NA</td>\n",
       "      <td>point</td>\n",
       "      <td>53</td>\n",
       "      <td>3738.037479</td>\n",
       "    </tr>\n",
       "    <tr>\n",
       "      <th>52</th>\n",
       "      <td>2020-12-20</td>\n",
       "      <td>8 wk ahead cum death</td>\n",
       "      <td>2021-02-13</td>\n",
       "      <td>NA</td>\n",
       "      <td>point</td>\n",
       "      <td>53</td>\n",
       "      <td>3838.082669</td>\n",
       "    </tr>\n",
       "    <tr>\n",
       "      <th>41</th>\n",
       "      <td>2020-12-20</td>\n",
       "      <td>1 wk ahead inc death</td>\n",
       "      <td>2020-12-26</td>\n",
       "      <td>NA</td>\n",
       "      <td>point</td>\n",
       "      <td>54</td>\n",
       "      <td>110.675682</td>\n",
       "    </tr>\n",
       "    <tr>\n",
       "      <th>42</th>\n",
       "      <td>2020-12-20</td>\n",
       "      <td>2 wk ahead inc death</td>\n",
       "      <td>2021-01-02</td>\n",
       "      <td>NA</td>\n",
       "      <td>point</td>\n",
       "      <td>54</td>\n",
       "      <td>122.683588</td>\n",
       "    </tr>\n",
       "    <tr>\n",
       "      <th>43</th>\n",
       "      <td>2020-12-20</td>\n",
       "      <td>3 wk ahead inc death</td>\n",
       "      <td>2021-01-09</td>\n",
       "      <td>NA</td>\n",
       "      <td>point</td>\n",
       "      <td>54</td>\n",
       "      <td>135.994309</td>\n",
       "    </tr>\n",
       "    <tr>\n",
       "      <th>44</th>\n",
       "      <td>2020-12-20</td>\n",
       "      <td>4 wk ahead inc death</td>\n",
       "      <td>2021-01-16</td>\n",
       "      <td>NA</td>\n",
       "      <td>point</td>\n",
       "      <td>54</td>\n",
       "      <td>150.749194</td>\n",
       "    </tr>\n",
       "    <tr>\n",
       "      <th>45</th>\n",
       "      <td>2020-12-20</td>\n",
       "      <td>5 wk ahead inc death</td>\n",
       "      <td>2021-01-23</td>\n",
       "      <td>NA</td>\n",
       "      <td>point</td>\n",
       "      <td>54</td>\n",
       "      <td>167.104930</td>\n",
       "    </tr>\n",
       "    <tr>\n",
       "      <th>46</th>\n",
       "      <td>2020-12-20</td>\n",
       "      <td>6 wk ahead inc death</td>\n",
       "      <td>2021-01-30</td>\n",
       "      <td>NA</td>\n",
       "      <td>point</td>\n",
       "      <td>54</td>\n",
       "      <td>185.235203</td>\n",
       "    </tr>\n",
       "    <tr>\n",
       "      <th>47</th>\n",
       "      <td>2020-12-20</td>\n",
       "      <td>7 wk ahead inc death</td>\n",
       "      <td>2021-02-06</td>\n",
       "      <td>NA</td>\n",
       "      <td>point</td>\n",
       "      <td>54</td>\n",
       "      <td>205.332545</td>\n",
       "    </tr>\n",
       "    <tr>\n",
       "      <th>48</th>\n",
       "      <td>2020-12-20</td>\n",
       "      <td>8 wk ahead inc death</td>\n",
       "      <td>2021-02-13</td>\n",
       "      <td>NA</td>\n",
       "      <td>point</td>\n",
       "      <td>54</td>\n",
       "      <td>227.610374</td>\n",
       "    </tr>\n",
       "    <tr>\n",
       "      <th>41</th>\n",
       "      <td>2020-12-20</td>\n",
       "      <td>1 wk ahead cum death</td>\n",
       "      <td>2020-12-26</td>\n",
       "      <td>NA</td>\n",
       "      <td>point</td>\n",
       "      <td>54</td>\n",
       "      <td>1232.675682</td>\n",
       "    </tr>\n",
       "    <tr>\n",
       "      <th>42</th>\n",
       "      <td>2020-12-20</td>\n",
       "      <td>2 wk ahead cum death</td>\n",
       "      <td>2021-01-02</td>\n",
       "      <td>NA</td>\n",
       "      <td>point</td>\n",
       "      <td>54</td>\n",
       "      <td>1355.359270</td>\n",
       "    </tr>\n",
       "    <tr>\n",
       "      <th>43</th>\n",
       "      <td>2020-12-20</td>\n",
       "      <td>3 wk ahead cum death</td>\n",
       "      <td>2021-01-09</td>\n",
       "      <td>NA</td>\n",
       "      <td>point</td>\n",
       "      <td>54</td>\n",
       "      <td>1491.353579</td>\n",
       "    </tr>\n",
       "    <tr>\n",
       "      <th>44</th>\n",
       "      <td>2020-12-20</td>\n",
       "      <td>4 wk ahead cum death</td>\n",
       "      <td>2021-01-16</td>\n",
       "      <td>NA</td>\n",
       "      <td>point</td>\n",
       "      <td>54</td>\n",
       "      <td>1642.102772</td>\n",
       "    </tr>\n",
       "    <tr>\n",
       "      <th>45</th>\n",
       "      <td>2020-12-20</td>\n",
       "      <td>5 wk ahead cum death</td>\n",
       "      <td>2021-01-23</td>\n",
       "      <td>NA</td>\n",
       "      <td>point</td>\n",
       "      <td>54</td>\n",
       "      <td>1809.207702</td>\n",
       "    </tr>\n",
       "    <tr>\n",
       "      <th>46</th>\n",
       "      <td>2020-12-20</td>\n",
       "      <td>6 wk ahead cum death</td>\n",
       "      <td>2021-01-30</td>\n",
       "      <td>NA</td>\n",
       "      <td>point</td>\n",
       "      <td>54</td>\n",
       "      <td>1994.442905</td>\n",
       "    </tr>\n",
       "    <tr>\n",
       "      <th>47</th>\n",
       "      <td>2020-12-20</td>\n",
       "      <td>7 wk ahead cum death</td>\n",
       "      <td>2021-02-06</td>\n",
       "      <td>NA</td>\n",
       "      <td>point</td>\n",
       "      <td>54</td>\n",
       "      <td>2199.775450</td>\n",
       "    </tr>\n",
       "    <tr>\n",
       "      <th>48</th>\n",
       "      <td>2020-12-20</td>\n",
       "      <td>8 wk ahead cum death</td>\n",
       "      <td>2021-02-13</td>\n",
       "      <td>NA</td>\n",
       "      <td>point</td>\n",
       "      <td>54</td>\n",
       "      <td>2427.385824</td>\n",
       "    </tr>\n",
       "    <tr>\n",
       "      <th>43</th>\n",
       "      <td>2020-12-20</td>\n",
       "      <td>1 wk ahead inc death</td>\n",
       "      <td>2020-12-26</td>\n",
       "      <td>NA</td>\n",
       "      <td>point</td>\n",
       "      <td>55</td>\n",
       "      <td>596.798019</td>\n",
       "    </tr>\n",
       "    <tr>\n",
       "      <th>44</th>\n",
       "      <td>2020-12-20</td>\n",
       "      <td>2 wk ahead inc death</td>\n",
       "      <td>2021-01-02</td>\n",
       "      <td>NA</td>\n",
       "      <td>point</td>\n",
       "      <td>55</td>\n",
       "      <td>694.897289</td>\n",
       "    </tr>\n",
       "    <tr>\n",
       "      <th>45</th>\n",
       "      <td>2020-12-20</td>\n",
       "      <td>3 wk ahead inc death</td>\n",
       "      <td>2021-01-09</td>\n",
       "      <td>NA</td>\n",
       "      <td>point</td>\n",
       "      <td>55</td>\n",
       "      <td>809.121726</td>\n",
       "    </tr>\n",
       "    <tr>\n",
       "      <th>46</th>\n",
       "      <td>2020-12-20</td>\n",
       "      <td>4 wk ahead inc death</td>\n",
       "      <td>2021-01-16</td>\n",
       "      <td>NA</td>\n",
       "      <td>point</td>\n",
       "      <td>55</td>\n",
       "      <td>942.121918</td>\n",
       "    </tr>\n",
       "    <tr>\n",
       "      <th>47</th>\n",
       "      <td>2020-12-20</td>\n",
       "      <td>5 wk ahead inc death</td>\n",
       "      <td>2021-01-23</td>\n",
       "      <td>NA</td>\n",
       "      <td>point</td>\n",
       "      <td>55</td>\n",
       "      <td>1096.984149</td>\n",
       "    </tr>\n",
       "    <tr>\n",
       "      <th>48</th>\n",
       "      <td>2020-12-20</td>\n",
       "      <td>6 wk ahead inc death</td>\n",
       "      <td>2021-01-30</td>\n",
       "      <td>NA</td>\n",
       "      <td>point</td>\n",
       "      <td>55</td>\n",
       "      <td>1277.302014</td>\n",
       "    </tr>\n",
       "    <tr>\n",
       "      <th>49</th>\n",
       "      <td>2020-12-20</td>\n",
       "      <td>7 wk ahead inc death</td>\n",
       "      <td>2021-02-06</td>\n",
       "      <td>NA</td>\n",
       "      <td>point</td>\n",
       "      <td>55</td>\n",
       "      <td>1487.259809</td>\n",
       "    </tr>\n",
       "    <tr>\n",
       "      <th>50</th>\n",
       "      <td>2020-12-20</td>\n",
       "      <td>8 wk ahead inc death</td>\n",
       "      <td>2021-02-13</td>\n",
       "      <td>NA</td>\n",
       "      <td>point</td>\n",
       "      <td>55</td>\n",
       "      <td>1731.729626</td>\n",
       "    </tr>\n",
       "    <tr>\n",
       "      <th>43</th>\n",
       "      <td>2020-12-20</td>\n",
       "      <td>1 wk ahead cum death</td>\n",
       "      <td>2020-12-26</td>\n",
       "      <td>NA</td>\n",
       "      <td>point</td>\n",
       "      <td>55</td>\n",
       "      <td>5318.798019</td>\n",
       "    </tr>\n",
       "    <tr>\n",
       "      <th>44</th>\n",
       "      <td>2020-12-20</td>\n",
       "      <td>2 wk ahead cum death</td>\n",
       "      <td>2021-01-02</td>\n",
       "      <td>NA</td>\n",
       "      <td>point</td>\n",
       "      <td>55</td>\n",
       "      <td>6013.695308</td>\n",
       "    </tr>\n",
       "    <tr>\n",
       "      <th>45</th>\n",
       "      <td>2020-12-20</td>\n",
       "      <td>3 wk ahead cum death</td>\n",
       "      <td>2021-01-09</td>\n",
       "      <td>NA</td>\n",
       "      <td>point</td>\n",
       "      <td>55</td>\n",
       "      <td>6822.817034</td>\n",
       "    </tr>\n",
       "    <tr>\n",
       "      <th>46</th>\n",
       "      <td>2020-12-20</td>\n",
       "      <td>4 wk ahead cum death</td>\n",
       "      <td>2021-01-16</td>\n",
       "      <td>NA</td>\n",
       "      <td>point</td>\n",
       "      <td>55</td>\n",
       "      <td>7764.938951</td>\n",
       "    </tr>\n",
       "    <tr>\n",
       "      <th>47</th>\n",
       "      <td>2020-12-20</td>\n",
       "      <td>5 wk ahead cum death</td>\n",
       "      <td>2021-01-23</td>\n",
       "      <td>NA</td>\n",
       "      <td>point</td>\n",
       "      <td>55</td>\n",
       "      <td>8861.923100</td>\n",
       "    </tr>\n",
       "    <tr>\n",
       "      <th>48</th>\n",
       "      <td>2020-12-20</td>\n",
       "      <td>6 wk ahead cum death</td>\n",
       "      <td>2021-01-30</td>\n",
       "      <td>NA</td>\n",
       "      <td>point</td>\n",
       "      <td>55</td>\n",
       "      <td>10139.225115</td>\n",
       "    </tr>\n",
       "    <tr>\n",
       "      <th>49</th>\n",
       "      <td>2020-12-20</td>\n",
       "      <td>7 wk ahead cum death</td>\n",
       "      <td>2021-02-06</td>\n",
       "      <td>NA</td>\n",
       "      <td>point</td>\n",
       "      <td>55</td>\n",
       "      <td>11626.484924</td>\n",
       "    </tr>\n",
       "    <tr>\n",
       "      <th>50</th>\n",
       "      <td>2020-12-20</td>\n",
       "      <td>8 wk ahead cum death</td>\n",
       "      <td>2021-02-13</td>\n",
       "      <td>NA</td>\n",
       "      <td>point</td>\n",
       "      <td>55</td>\n",
       "      <td>13358.214549</td>\n",
       "    </tr>\n",
       "    <tr>\n",
       "      <th>39</th>\n",
       "      <td>2020-12-20</td>\n",
       "      <td>1 wk ahead inc death</td>\n",
       "      <td>2020-12-26</td>\n",
       "      <td>NA</td>\n",
       "      <td>point</td>\n",
       "      <td>56</td>\n",
       "      <td>60.084447</td>\n",
       "    </tr>\n",
       "    <tr>\n",
       "      <th>40</th>\n",
       "      <td>2020-12-20</td>\n",
       "      <td>2 wk ahead inc death</td>\n",
       "      <td>2021-01-02</td>\n",
       "      <td>NA</td>\n",
       "      <td>point</td>\n",
       "      <td>56</td>\n",
       "      <td>68.105279</td>\n",
       "    </tr>\n",
       "    <tr>\n",
       "      <th>41</th>\n",
       "      <td>2020-12-20</td>\n",
       "      <td>3 wk ahead inc death</td>\n",
       "      <td>2021-01-09</td>\n",
       "      <td>NA</td>\n",
       "      <td>point</td>\n",
       "      <td>56</td>\n",
       "      <td>77.196834</td>\n",
       "    </tr>\n",
       "    <tr>\n",
       "      <th>42</th>\n",
       "      <td>2020-12-20</td>\n",
       "      <td>4 wk ahead inc death</td>\n",
       "      <td>2021-01-16</td>\n",
       "      <td>NA</td>\n",
       "      <td>point</td>\n",
       "      <td>56</td>\n",
       "      <td>87.502044</td>\n",
       "    </tr>\n",
       "    <tr>\n",
       "      <th>43</th>\n",
       "      <td>2020-12-20</td>\n",
       "      <td>5 wk ahead inc death</td>\n",
       "      <td>2021-01-23</td>\n",
       "      <td>NA</td>\n",
       "      <td>point</td>\n",
       "      <td>56</td>\n",
       "      <td>99.182925</td>\n",
       "    </tr>\n",
       "    <tr>\n",
       "      <th>44</th>\n",
       "      <td>2020-12-20</td>\n",
       "      <td>6 wk ahead inc death</td>\n",
       "      <td>2021-01-30</td>\n",
       "      <td>NA</td>\n",
       "      <td>point</td>\n",
       "      <td>56</td>\n",
       "      <td>112.423117</td>\n",
       "    </tr>\n",
       "    <tr>\n",
       "      <th>45</th>\n",
       "      <td>2020-12-20</td>\n",
       "      <td>7 wk ahead inc death</td>\n",
       "      <td>2021-02-06</td>\n",
       "      <td>NA</td>\n",
       "      <td>point</td>\n",
       "      <td>56</td>\n",
       "      <td>127.430777</td>\n",
       "    </tr>\n",
       "    <tr>\n",
       "      <th>46</th>\n",
       "      <td>2020-12-20</td>\n",
       "      <td>8 wk ahead inc death</td>\n",
       "      <td>2021-02-13</td>\n",
       "      <td>NA</td>\n",
       "      <td>point</td>\n",
       "      <td>56</td>\n",
       "      <td>144.441851</td>\n",
       "    </tr>\n",
       "    <tr>\n",
       "      <th>39</th>\n",
       "      <td>2020-12-20</td>\n",
       "      <td>1 wk ahead cum death</td>\n",
       "      <td>2020-12-26</td>\n",
       "      <td>NA</td>\n",
       "      <td>point</td>\n",
       "      <td>56</td>\n",
       "      <td>411.084447</td>\n",
       "    </tr>\n",
       "    <tr>\n",
       "      <th>40</th>\n",
       "      <td>2020-12-20</td>\n",
       "      <td>2 wk ahead cum death</td>\n",
       "      <td>2021-01-02</td>\n",
       "      <td>NA</td>\n",
       "      <td>point</td>\n",
       "      <td>56</td>\n",
       "      <td>479.189726</td>\n",
       "    </tr>\n",
       "    <tr>\n",
       "      <th>41</th>\n",
       "      <td>2020-12-20</td>\n",
       "      <td>3 wk ahead cum death</td>\n",
       "      <td>2021-01-09</td>\n",
       "      <td>NA</td>\n",
       "      <td>point</td>\n",
       "      <td>56</td>\n",
       "      <td>556.386559</td>\n",
       "    </tr>\n",
       "    <tr>\n",
       "      <th>42</th>\n",
       "      <td>2020-12-20</td>\n",
       "      <td>4 wk ahead cum death</td>\n",
       "      <td>2021-01-16</td>\n",
       "      <td>NA</td>\n",
       "      <td>point</td>\n",
       "      <td>56</td>\n",
       "      <td>643.888604</td>\n",
       "    </tr>\n",
       "    <tr>\n",
       "      <th>43</th>\n",
       "      <td>2020-12-20</td>\n",
       "      <td>5 wk ahead cum death</td>\n",
       "      <td>2021-01-23</td>\n",
       "      <td>NA</td>\n",
       "      <td>point</td>\n",
       "      <td>56</td>\n",
       "      <td>743.071528</td>\n",
       "    </tr>\n",
       "    <tr>\n",
       "      <th>44</th>\n",
       "      <td>2020-12-20</td>\n",
       "      <td>6 wk ahead cum death</td>\n",
       "      <td>2021-01-30</td>\n",
       "      <td>NA</td>\n",
       "      <td>point</td>\n",
       "      <td>56</td>\n",
       "      <td>855.494645</td>\n",
       "    </tr>\n",
       "    <tr>\n",
       "      <th>45</th>\n",
       "      <td>2020-12-20</td>\n",
       "      <td>7 wk ahead cum death</td>\n",
       "      <td>2021-02-06</td>\n",
       "      <td>NA</td>\n",
       "      <td>point</td>\n",
       "      <td>56</td>\n",
       "      <td>982.925423</td>\n",
       "    </tr>\n",
       "    <tr>\n",
       "      <th>46</th>\n",
       "      <td>2020-12-20</td>\n",
       "      <td>8 wk ahead cum death</td>\n",
       "      <td>2021-02-13</td>\n",
       "      <td>NA</td>\n",
       "      <td>point</td>\n",
       "      <td>56</td>\n",
       "      <td>1127.367273</td>\n",
       "    </tr>\n",
       "  </tbody>\n",
       "</table>\n",
       "</div>"
      ],
      "text/plain": [
       "   forecast_date                target target_end_date quantile   type  \\\n",
       "49    2020-12-20  5 wk ahead inc death      2021-01-23       NA  point   \n",
       "50    2020-12-20  6 wk ahead inc death      2021-01-30       NA  point   \n",
       "51    2020-12-20  7 wk ahead inc death      2021-02-06       NA  point   \n",
       "52    2020-12-20  8 wk ahead inc death      2021-02-13       NA  point   \n",
       "45    2020-12-20  1 wk ahead cum death      2020-12-26       NA  point   \n",
       "46    2020-12-20  2 wk ahead cum death      2021-01-02       NA  point   \n",
       "47    2020-12-20  3 wk ahead cum death      2021-01-09       NA  point   \n",
       "48    2020-12-20  4 wk ahead cum death      2021-01-16       NA  point   \n",
       "49    2020-12-20  5 wk ahead cum death      2021-01-23       NA  point   \n",
       "50    2020-12-20  6 wk ahead cum death      2021-01-30       NA  point   \n",
       "51    2020-12-20  7 wk ahead cum death      2021-02-06       NA  point   \n",
       "52    2020-12-20  8 wk ahead cum death      2021-02-13       NA  point   \n",
       "41    2020-12-20  1 wk ahead inc death      2020-12-26       NA  point   \n",
       "42    2020-12-20  2 wk ahead inc death      2021-01-02       NA  point   \n",
       "43    2020-12-20  3 wk ahead inc death      2021-01-09       NA  point   \n",
       "44    2020-12-20  4 wk ahead inc death      2021-01-16       NA  point   \n",
       "45    2020-12-20  5 wk ahead inc death      2021-01-23       NA  point   \n",
       "46    2020-12-20  6 wk ahead inc death      2021-01-30       NA  point   \n",
       "47    2020-12-20  7 wk ahead inc death      2021-02-06       NA  point   \n",
       "48    2020-12-20  8 wk ahead inc death      2021-02-13       NA  point   \n",
       "41    2020-12-20  1 wk ahead cum death      2020-12-26       NA  point   \n",
       "42    2020-12-20  2 wk ahead cum death      2021-01-02       NA  point   \n",
       "43    2020-12-20  3 wk ahead cum death      2021-01-09       NA  point   \n",
       "44    2020-12-20  4 wk ahead cum death      2021-01-16       NA  point   \n",
       "45    2020-12-20  5 wk ahead cum death      2021-01-23       NA  point   \n",
       "46    2020-12-20  6 wk ahead cum death      2021-01-30       NA  point   \n",
       "47    2020-12-20  7 wk ahead cum death      2021-02-06       NA  point   \n",
       "48    2020-12-20  8 wk ahead cum death      2021-02-13       NA  point   \n",
       "43    2020-12-20  1 wk ahead inc death      2020-12-26       NA  point   \n",
       "44    2020-12-20  2 wk ahead inc death      2021-01-02       NA  point   \n",
       "45    2020-12-20  3 wk ahead inc death      2021-01-09       NA  point   \n",
       "46    2020-12-20  4 wk ahead inc death      2021-01-16       NA  point   \n",
       "47    2020-12-20  5 wk ahead inc death      2021-01-23       NA  point   \n",
       "48    2020-12-20  6 wk ahead inc death      2021-01-30       NA  point   \n",
       "49    2020-12-20  7 wk ahead inc death      2021-02-06       NA  point   \n",
       "50    2020-12-20  8 wk ahead inc death      2021-02-13       NA  point   \n",
       "43    2020-12-20  1 wk ahead cum death      2020-12-26       NA  point   \n",
       "44    2020-12-20  2 wk ahead cum death      2021-01-02       NA  point   \n",
       "45    2020-12-20  3 wk ahead cum death      2021-01-09       NA  point   \n",
       "46    2020-12-20  4 wk ahead cum death      2021-01-16       NA  point   \n",
       "47    2020-12-20  5 wk ahead cum death      2021-01-23       NA  point   \n",
       "48    2020-12-20  6 wk ahead cum death      2021-01-30       NA  point   \n",
       "49    2020-12-20  7 wk ahead cum death      2021-02-06       NA  point   \n",
       "50    2020-12-20  8 wk ahead cum death      2021-02-13       NA  point   \n",
       "39    2020-12-20  1 wk ahead inc death      2020-12-26       NA  point   \n",
       "40    2020-12-20  2 wk ahead inc death      2021-01-02       NA  point   \n",
       "41    2020-12-20  3 wk ahead inc death      2021-01-09       NA  point   \n",
       "42    2020-12-20  4 wk ahead inc death      2021-01-16       NA  point   \n",
       "43    2020-12-20  5 wk ahead inc death      2021-01-23       NA  point   \n",
       "44    2020-12-20  6 wk ahead inc death      2021-01-30       NA  point   \n",
       "45    2020-12-20  7 wk ahead inc death      2021-02-06       NA  point   \n",
       "46    2020-12-20  8 wk ahead inc death      2021-02-13       NA  point   \n",
       "39    2020-12-20  1 wk ahead cum death      2020-12-26       NA  point   \n",
       "40    2020-12-20  2 wk ahead cum death      2021-01-02       NA  point   \n",
       "41    2020-12-20  3 wk ahead cum death      2021-01-09       NA  point   \n",
       "42    2020-12-20  4 wk ahead cum death      2021-01-16       NA  point   \n",
       "43    2020-12-20  5 wk ahead cum death      2021-01-23       NA  point   \n",
       "44    2020-12-20  6 wk ahead cum death      2021-01-30       NA  point   \n",
       "45    2020-12-20  7 wk ahead cum death      2021-02-06       NA  point   \n",
       "46    2020-12-20  8 wk ahead cum death      2021-02-13       NA  point   \n",
       "\n",
       "   location         value  \n",
       "49       53     92.768179  \n",
       "50       53     95.133051  \n",
       "51       53     97.558209  \n",
       "52       53    100.045190  \n",
       "45       53   3187.882131  \n",
       "46       53   3273.902609  \n",
       "47       53   3362.115945  \n",
       "48       53   3452.578039  \n",
       "49       53   3545.346218  \n",
       "50       53   3640.479269  \n",
       "51       53   3738.037479  \n",
       "52       53   3838.082669  \n",
       "41       54    110.675682  \n",
       "42       54    122.683588  \n",
       "43       54    135.994309  \n",
       "44       54    150.749194  \n",
       "45       54    167.104930  \n",
       "46       54    185.235203  \n",
       "47       54    205.332545  \n",
       "48       54    227.610374  \n",
       "41       54   1232.675682  \n",
       "42       54   1355.359270  \n",
       "43       54   1491.353579  \n",
       "44       54   1642.102772  \n",
       "45       54   1809.207702  \n",
       "46       54   1994.442905  \n",
       "47       54   2199.775450  \n",
       "48       54   2427.385824  \n",
       "43       55    596.798019  \n",
       "44       55    694.897289  \n",
       "45       55    809.121726  \n",
       "46       55    942.121918  \n",
       "47       55   1096.984149  \n",
       "48       55   1277.302014  \n",
       "49       55   1487.259809  \n",
       "50       55   1731.729626  \n",
       "43       55   5318.798019  \n",
       "44       55   6013.695308  \n",
       "45       55   6822.817034  \n",
       "46       55   7764.938951  \n",
       "47       55   8861.923100  \n",
       "48       55  10139.225115  \n",
       "49       55  11626.484924  \n",
       "50       55  13358.214549  \n",
       "39       56     60.084447  \n",
       "40       56     68.105279  \n",
       "41       56     77.196834  \n",
       "42       56     87.502044  \n",
       "43       56     99.182925  \n",
       "44       56    112.423117  \n",
       "45       56    127.430777  \n",
       "46       56    144.441851  \n",
       "39       56    411.084447  \n",
       "40       56    479.189726  \n",
       "41       56    556.386559  \n",
       "42       56    643.888604  \n",
       "43       56    743.071528  \n",
       "44       56    855.494645  \n",
       "45       56    982.925423  \n",
       "46       56   1127.367273  "
      ]
     },
     "execution_count": 198,
     "metadata": {},
     "output_type": "execute_result"
    }
   ],
   "source": [
    "US_forecast.tail(60)"
   ]
  },
  {
   "cell_type": "code",
   "execution_count": 200,
   "metadata": {},
   "outputs": [
    {
     "data": {
      "text/html": [
       "<div>\n",
       "<style scoped>\n",
       "    .dataframe tbody tr th:only-of-type {\n",
       "        vertical-align: middle;\n",
       "    }\n",
       "\n",
       "    .dataframe tbody tr th {\n",
       "        vertical-align: top;\n",
       "    }\n",
       "\n",
       "    .dataframe thead th {\n",
       "        text-align: right;\n",
       "    }\n",
       "</style>\n",
       "<table border=\"1\" class=\"dataframe\">\n",
       "  <thead>\n",
       "    <tr style=\"text-align: right;\">\n",
       "      <th></th>\n",
       "      <th>forecast_date</th>\n",
       "      <th>target</th>\n",
       "      <th>target_end_date</th>\n",
       "      <th>quantile</th>\n",
       "      <th>type</th>\n",
       "      <th>location</th>\n",
       "      <th>value</th>\n",
       "    </tr>\n",
       "  </thead>\n",
       "  <tbody>\n",
       "  </tbody>\n",
       "</table>\n",
       "</div>"
      ],
      "text/plain": [
       "Empty DataFrame\n",
       "Columns: [forecast_date, target, target_end_date, quantile, type, location, value]\n",
       "Index: []"
      ]
     },
     "execution_count": 200,
     "metadata": {},
     "output_type": "execute_result"
    }
   ],
   "source": [
    "US_forecast.query('target==\"9 wk ahead cum death\"')"
   ]
  },
  {
   "cell_type": "code",
   "execution_count": 202,
   "metadata": {},
   "outputs": [],
   "source": [
    "US_forecast.to_csv('{}-AIpert-pwllnod.csv'.format(forecast_date), index=False)"
   ]
  },
  {
   "cell_type": "code",
   "execution_count": 55,
   "metadata": {},
   "outputs": [],
   "source": [
    "scope = 'World'\n",
    "location_name = 'US'"
   ]
  },
  {
   "cell_type": "code",
   "execution_count": 56,
   "metadata": {},
   "outputs": [],
   "source": [
    "forecast_date = pd.to_datetime(forecast_date).date()"
   ]
  },
  {
   "cell_type": "code",
   "execution_count": 57,
   "metadata": {},
   "outputs": [],
   "source": [
    "if scope == 'World':\n",
    "    forecast_fun = mu.get_metrics_by_country\n",
    "    policy_date_fun = mu.get_policy_change_dates_by_country\n",
    "else:\n",
    "    forecast_fun = mu.get_metrics_by_state_US\n",
    "    policy_date_fun = mu.get_policy_change_dates_by_state_US"
   ]
  },
  {
   "cell_type": "code",
   "execution_count": 58,
   "metadata": {},
   "outputs": [
    {
     "name": "stderr",
     "output_type": "stream",
     "text": [
      "/home/quoc/bitbucket/covid-19/prognosis/model_utils.py:247: RuntimeWarning: divide by zero encountered in log\n",
      "  log_daily_death = np.log(daily_local_death_new)\n"
     ]
    }
   ],
   "source": [
    "input_forecast, _, _ = forecast_fun(location_name, \n",
    "                                    forecast_horizon=60,\n",
    "                                    policy_change_dates=policy_date_fun(location_name),\n",
    "                                    back_test=True, last_data_date=forecast_date)"
   ]
  },
  {
   "cell_type": "code",
   "execution_count": 59,
   "metadata": {},
   "outputs": [],
   "source": [
    "input_forecast.index.rename('date', inplace=True)"
   ]
  },
  {
   "cell_type": "code",
   "execution_count": 60,
   "metadata": {},
   "outputs": [],
   "source": [
    "input_forecast.reset_index(inplace=True)"
   ]
  },
  {
   "cell_type": "code",
   "execution_count": 62,
   "metadata": {},
   "outputs": [
    {
     "data": {
      "text/html": [
       "<div>\n",
       "<style scoped>\n",
       "    .dataframe tbody tr th:only-of-type {\n",
       "        vertical-align: middle;\n",
       "    }\n",
       "\n",
       "    .dataframe tbody tr th {\n",
       "        vertical-align: top;\n",
       "    }\n",
       "\n",
       "    .dataframe thead th {\n",
       "        text-align: right;\n",
       "    }\n",
       "</style>\n",
       "<table border=\"1\" class=\"dataframe\">\n",
       "  <thead>\n",
       "    <tr style=\"text-align: right;\">\n",
       "      <th></th>\n",
       "      <th>forecast_date</th>\n",
       "      <th>target</th>\n",
       "      <th>target_end_date</th>\n",
       "      <th>quantile</th>\n",
       "      <th>type</th>\n",
       "      <th>location</th>\n",
       "      <th>value</th>\n",
       "    </tr>\n",
       "  </thead>\n",
       "  <tbody>\n",
       "    <tr>\n",
       "      <th>45</th>\n",
       "      <td>2020-12-20</td>\n",
       "      <td>1 wk ahead inc death</td>\n",
       "      <td>2020-12-26</td>\n",
       "      <td>NA</td>\n",
       "      <td>point</td>\n",
       "      <td>US</td>\n",
       "      <td>23423.635211</td>\n",
       "    </tr>\n",
       "    <tr>\n",
       "      <th>46</th>\n",
       "      <td>2020-12-20</td>\n",
       "      <td>2 wk ahead inc death</td>\n",
       "      <td>2021-01-02</td>\n",
       "      <td>NA</td>\n",
       "      <td>point</td>\n",
       "      <td>US</td>\n",
       "      <td>28318.467783</td>\n",
       "    </tr>\n",
       "    <tr>\n",
       "      <th>47</th>\n",
       "      <td>2020-12-20</td>\n",
       "      <td>3 wk ahead inc death</td>\n",
       "      <td>2021-01-09</td>\n",
       "      <td>NA</td>\n",
       "      <td>point</td>\n",
       "      <td>US</td>\n",
       "      <td>34236.172582</td>\n",
       "    </tr>\n",
       "    <tr>\n",
       "      <th>48</th>\n",
       "      <td>2020-12-20</td>\n",
       "      <td>4 wk ahead inc death</td>\n",
       "      <td>2021-01-16</td>\n",
       "      <td>NA</td>\n",
       "      <td>point</td>\n",
       "      <td>US</td>\n",
       "      <td>41390.499022</td>\n",
       "    </tr>\n",
       "    <tr>\n",
       "      <th>49</th>\n",
       "      <td>2020-12-20</td>\n",
       "      <td>5 wk ahead inc death</td>\n",
       "      <td>2021-01-23</td>\n",
       "      <td>NA</td>\n",
       "      <td>point</td>\n",
       "      <td>US</td>\n",
       "      <td>50039.863689</td>\n",
       "    </tr>\n",
       "    <tr>\n",
       "      <th>50</th>\n",
       "      <td>2020-12-20</td>\n",
       "      <td>6 wk ahead inc death</td>\n",
       "      <td>2021-01-30</td>\n",
       "      <td>NA</td>\n",
       "      <td>point</td>\n",
       "      <td>US</td>\n",
       "      <td>60496.684438</td>\n",
       "    </tr>\n",
       "    <tr>\n",
       "      <th>51</th>\n",
       "      <td>2020-12-20</td>\n",
       "      <td>7 wk ahead inc death</td>\n",
       "      <td>2021-02-06</td>\n",
       "      <td>NA</td>\n",
       "      <td>point</td>\n",
       "      <td>US</td>\n",
       "      <td>73138.665019</td>\n",
       "    </tr>\n",
       "    <tr>\n",
       "      <th>52</th>\n",
       "      <td>2020-12-20</td>\n",
       "      <td>8 wk ahead inc death</td>\n",
       "      <td>2021-02-13</td>\n",
       "      <td>NA</td>\n",
       "      <td>point</td>\n",
       "      <td>US</td>\n",
       "      <td>88422.437866</td>\n",
       "    </tr>\n",
       "  </tbody>\n",
       "</table>\n",
       "</div>"
      ],
      "text/plain": [
       "   forecast_date                target target_end_date quantile   type  \\\n",
       "45    2020-12-20  1 wk ahead inc death      2020-12-26       NA  point   \n",
       "46    2020-12-20  2 wk ahead inc death      2021-01-02       NA  point   \n",
       "47    2020-12-20  3 wk ahead inc death      2021-01-09       NA  point   \n",
       "48    2020-12-20  4 wk ahead inc death      2021-01-16       NA  point   \n",
       "49    2020-12-20  5 wk ahead inc death      2021-01-23       NA  point   \n",
       "50    2020-12-20  6 wk ahead inc death      2021-01-30       NA  point   \n",
       "51    2020-12-20  7 wk ahead inc death      2021-02-06       NA  point   \n",
       "52    2020-12-20  8 wk ahead inc death      2021-02-13       NA  point   \n",
       "\n",
       "   location         value  \n",
       "45       US  23423.635211  \n",
       "46       US  28318.467783  \n",
       "47       US  34236.172582  \n",
       "48       US  41390.499022  \n",
       "49       US  50039.863689  \n",
       "50       US  60496.684438  \n",
       "51       US  73138.665019  \n",
       "52       US  88422.437866  "
      ]
     },
     "execution_count": 62,
     "metadata": {},
     "output_type": "execute_result"
    }
   ],
   "source": [
    "format_forecast(input_forecast).query('target!=\"9 wk ahead inc death\"')"
   ]
  },
  {
   "cell_type": "code",
   "execution_count": 77,
   "metadata": {},
   "outputs": [],
   "source": [
    "forecast_date = pd.to_datetime(forecast_date).date()"
   ]
  },
  {
   "cell_type": "code",
   "execution_count": 88,
   "metadata": {},
   "outputs": [],
   "source": [
    "forecast_date_week_end = get_epiweek_enddate(forecast_date)"
   ]
  },
  {
   "cell_type": "code",
   "execution_count": 79,
   "metadata": {},
   "outputs": [
    {
     "data": {
      "text/plain": [
       "datetime.date(2020, 12, 26)"
      ]
     },
     "execution_count": 79,
     "metadata": {},
     "output_type": "execute_result"
    }
   ],
   "source": [
    "target_end_date"
   ]
  },
  {
   "cell_type": "code",
   "execution_count": 89,
   "metadata": {},
   "outputs": [
    {
     "data": {
      "text/plain": [
       "1"
      ]
     },
     "execution_count": 89,
     "metadata": {},
     "output_type": "execute_result"
    }
   ],
   "source": [
    "(target_end_date - forecast_date_week_end).days//7 + 1"
   ]
  },
  {
   "cell_type": "code",
   "execution_count": 90,
   "metadata": {},
   "outputs": [],
   "source": [
    "target = '{week} wk ahead {target_aggr} {target_metric}'.format(week=(target_end_date - forecast_date_week_end).days//7 + 1,\n",
    "                                                               target_aggr=target_aggr,\n",
    "                                                               target_metric=target_metric)"
   ]
  },
  {
   "cell_type": "code",
   "execution_count": 91,
   "metadata": {},
   "outputs": [
    {
     "data": {
      "text/plain": [
       "'1 wk ahead inc death'"
      ]
     },
     "execution_count": 91,
     "metadata": {},
     "output_type": "execute_result"
    }
   ],
   "source": [
    "target"
   ]
  },
  {
   "cell_type": "code",
   "execution_count": 94,
   "metadata": {},
   "outputs": [],
   "source": [
    "input_forecast['target_end_date'] = input_forecast.date.apply(get_epiweek_enddate)"
   ]
  },
  {
   "cell_type": "code",
   "execution_count": 96,
   "metadata": {},
   "outputs": [],
   "source": [
    "input_forecast['target'] = input_forecast.target_end_date.apply(get_target_str)"
   ]
  },
  {
   "cell_type": "code",
   "execution_count": 98,
   "metadata": {},
   "outputs": [],
   "source": [
    "input_forecast['forecast_date'] = forecast_date"
   ]
  },
  {
   "cell_type": "code",
   "execution_count": 99,
   "metadata": {},
   "outputs": [],
   "source": [
    "input_forecast['location'] = fips.query('abbreviation == @abbr').location[0]"
   ]
  },
  {
   "cell_type": "code",
   "execution_count": 100,
   "metadata": {},
   "outputs": [],
   "source": [
    "input_forecast['quantile'] = 'NA'"
   ]
  },
  {
   "cell_type": "code",
   "execution_count": 102,
   "metadata": {},
   "outputs": [],
   "source": [
    "input_forecast['type'] = 'point'"
   ]
  },
  {
   "cell_type": "code",
   "execution_count": 105,
   "metadata": {},
   "outputs": [],
   "source": [
    "input_forecast.rename(columns={metric_map[target_metric]:'value'}, inplace=True)"
   ]
  },
  {
   "cell_type": "code",
   "execution_count": 109,
   "metadata": {},
   "outputs": [],
   "source": [
    "output = input_forecast[['forecast_date', 'target', 'target_end_date', 'quantile', 'type', 'value', 'location']]"
   ]
  },
  {
   "cell_type": "code",
   "execution_count": 112,
   "metadata": {},
   "outputs": [
    {
     "data": {
      "text/html": [
       "<div>\n",
       "<style scoped>\n",
       "    .dataframe tbody tr th:only-of-type {\n",
       "        vertical-align: middle;\n",
       "    }\n",
       "\n",
       "    .dataframe tbody tr th {\n",
       "        vertical-align: top;\n",
       "    }\n",
       "\n",
       "    .dataframe thead th {\n",
       "        text-align: right;\n",
       "    }\n",
       "</style>\n",
       "<table border=\"1\" class=\"dataframe\">\n",
       "  <thead>\n",
       "    <tr style=\"text-align: right;\">\n",
       "      <th></th>\n",
       "      <th>forecast_date</th>\n",
       "      <th>target</th>\n",
       "      <th>target_end_date</th>\n",
       "      <th>quantile</th>\n",
       "      <th>type</th>\n",
       "      <th>location</th>\n",
       "      <th>value</th>\n",
       "    </tr>\n",
       "  </thead>\n",
       "  <tbody>\n",
       "    <tr>\n",
       "      <th>45</th>\n",
       "      <td>2020-12-20</td>\n",
       "      <td>1 wk ahead inc death</td>\n",
       "      <td>2020-12-26</td>\n",
       "      <td>NA</td>\n",
       "      <td>point</td>\n",
       "      <td>US</td>\n",
       "      <td>25007.359242</td>\n",
       "    </tr>\n",
       "    <tr>\n",
       "      <th>46</th>\n",
       "      <td>2020-12-20</td>\n",
       "      <td>2 wk ahead inc death</td>\n",
       "      <td>2021-01-02</td>\n",
       "      <td>NA</td>\n",
       "      <td>point</td>\n",
       "      <td>US</td>\n",
       "      <td>30585.261090</td>\n",
       "    </tr>\n",
       "    <tr>\n",
       "      <th>47</th>\n",
       "      <td>2020-12-20</td>\n",
       "      <td>3 wk ahead inc death</td>\n",
       "      <td>2021-01-09</td>\n",
       "      <td>NA</td>\n",
       "      <td>point</td>\n",
       "      <td>US</td>\n",
       "      <td>37407.316258</td>\n",
       "    </tr>\n",
       "    <tr>\n",
       "      <th>48</th>\n",
       "      <td>2020-12-20</td>\n",
       "      <td>4 wk ahead inc death</td>\n",
       "      <td>2021-01-16</td>\n",
       "      <td>NA</td>\n",
       "      <td>point</td>\n",
       "      <td>US</td>\n",
       "      <td>45751.033661</td>\n",
       "    </tr>\n",
       "    <tr>\n",
       "      <th>49</th>\n",
       "      <td>2020-12-20</td>\n",
       "      <td>5 wk ahead inc death</td>\n",
       "      <td>2021-01-23</td>\n",
       "      <td>NA</td>\n",
       "      <td>point</td>\n",
       "      <td>US</td>\n",
       "      <td>55955.820690</td>\n",
       "    </tr>\n",
       "    <tr>\n",
       "      <th>50</th>\n",
       "      <td>2020-12-20</td>\n",
       "      <td>6 wk ahead inc death</td>\n",
       "      <td>2021-01-30</td>\n",
       "      <td>NA</td>\n",
       "      <td>point</td>\n",
       "      <td>US</td>\n",
       "      <td>68436.789697</td>\n",
       "    </tr>\n",
       "    <tr>\n",
       "      <th>51</th>\n",
       "      <td>2020-12-20</td>\n",
       "      <td>7 wk ahead inc death</td>\n",
       "      <td>2021-02-06</td>\n",
       "      <td>NA</td>\n",
       "      <td>point</td>\n",
       "      <td>US</td>\n",
       "      <td>83701.644016</td>\n",
       "    </tr>\n",
       "    <tr>\n",
       "      <th>52</th>\n",
       "      <td>2020-12-20</td>\n",
       "      <td>8 wk ahead inc death</td>\n",
       "      <td>2021-02-13</td>\n",
       "      <td>NA</td>\n",
       "      <td>point</td>\n",
       "      <td>US</td>\n",
       "      <td>102371.330421</td>\n",
       "    </tr>\n",
       "    <tr>\n",
       "      <th>53</th>\n",
       "      <td>2020-12-20</td>\n",
       "      <td>9 wk ahead inc death</td>\n",
       "      <td>2021-02-20</td>\n",
       "      <td>NA</td>\n",
       "      <td>point</td>\n",
       "      <td>US</td>\n",
       "      <td>68446.734785</td>\n",
       "    </tr>\n",
       "  </tbody>\n",
       "</table>\n",
       "</div>"
      ],
      "text/plain": [
       "   forecast_date                target target_end_date quantile   type  \\\n",
       "45    2020-12-20  1 wk ahead inc death      2020-12-26       NA  point   \n",
       "46    2020-12-20  2 wk ahead inc death      2021-01-02       NA  point   \n",
       "47    2020-12-20  3 wk ahead inc death      2021-01-09       NA  point   \n",
       "48    2020-12-20  4 wk ahead inc death      2021-01-16       NA  point   \n",
       "49    2020-12-20  5 wk ahead inc death      2021-01-23       NA  point   \n",
       "50    2020-12-20  6 wk ahead inc death      2021-01-30       NA  point   \n",
       "51    2020-12-20  7 wk ahead inc death      2021-02-06       NA  point   \n",
       "52    2020-12-20  8 wk ahead inc death      2021-02-13       NA  point   \n",
       "53    2020-12-20  9 wk ahead inc death      2021-02-20       NA  point   \n",
       "\n",
       "   location          value  \n",
       "45       US   25007.359242  \n",
       "46       US   30585.261090  \n",
       "47       US   37407.316258  \n",
       "48       US   45751.033661  \n",
       "49       US   55955.820690  \n",
       "50       US   68436.789697  \n",
       "51       US   83701.644016  \n",
       "52       US  102371.330421  \n",
       "53       US   68446.734785  "
      ]
     },
     "execution_count": 112,
     "metadata": {},
     "output_type": "execute_result"
    }
   ],
   "source": [
    "output.groupby(['forecast_date', 'target', 'target_end_date', 'quantile', 'type', 'location']).sum().reset_index().query('target_end_date>forecast_date')"
   ]
  },
  {
   "cell_type": "code",
   "execution_count": 31,
   "metadata": {},
   "outputs": [],
   "source": [
    "import epiweeks"
   ]
  },
  {
   "cell_type": "code",
   "execution_count": 8,
   "metadata": {},
   "outputs": [
    {
     "data": {
      "text/plain": [
       "['Epiweek',\n",
       " '__builtins__',\n",
       " '__cached__',\n",
       " '__doc__',\n",
       " '__file__',\n",
       " '__loader__',\n",
       " '__name__',\n",
       " '__package__',\n",
       " '__spec__',\n",
       " '_start_date_of_year',\n",
       " 'attr',\n",
       " 'date_to_epiweek',\n",
       " 'datetime',\n",
       " 'epiweek_to_date',\n",
       " 'epiweeks_in_year']"
      ]
     },
     "execution_count": 8,
     "metadata": {},
     "output_type": "execute_result"
    }
   ],
   "source": [
    "dir(pymmwr)"
   ]
  },
  {
   "cell_type": "code",
   "execution_count": 45,
   "metadata": {},
   "outputs": [
    {
     "data": {
      "text/plain": [
       "['Iterator',\n",
       " 'Tuple',\n",
       " 'Week',\n",
       " 'Year',\n",
       " '__builtins__',\n",
       " '__cached__',\n",
       " '__doc__',\n",
       " '__file__',\n",
       " '__loader__',\n",
       " '__name__',\n",
       " '__package__',\n",
       " '__spec__',\n",
       " '_check_system',\n",
       " '_check_week',\n",
       " '_check_year',\n",
       " '_system_adjustment',\n",
       " '_year_start',\n",
       " '_year_total_weeks',\n",
       " 'date',\n",
       " 'timedelta']"
      ]
     },
     "execution_count": 45,
     "metadata": {},
     "output_type": "execute_result"
    }
   ],
   "source": [
    "dir(epiweeks)"
   ]
  },
  {
   "cell_type": "code",
   "execution_count": 50,
   "metadata": {},
   "outputs": [
    {
     "data": {
      "text/plain": [
       "datetime.date(2020, 2, 15)"
      ]
     },
     "execution_count": 50,
     "metadata": {},
     "output_type": "execute_result"
    }
   ],
   "source": [
    "epiweeks.Week.fromdate(pd.to_datetime(input_forecast.date[0]).date()).enddate()"
   ]
  },
  {
   "cell_type": "code",
   "execution_count": 55,
   "metadata": {},
   "outputs": [
    {
     "data": {
      "text/plain": [
       "Week(2020, 7, CDC)"
      ]
     },
     "execution_count": 55,
     "metadata": {},
     "output_type": "execute_result"
    }
   ],
   "source": [
    "epiweeks.Week.fromdate(pd.to_datetime(input_forecast.date[0]).date())"
   ]
  },
  {
   "cell_type": "code",
   "execution_count": 118,
   "metadata": {},
   "outputs": [],
   "source": [
    "import datetime as dt"
   ]
  },
  {
   "cell_type": "code",
   "execution_count": 29,
   "metadata": {},
   "outputs": [],
   "source": [
    "epd = pymmwr.date_to_epiweek(pd.to_datetime(input_forecast['Unnamed: 0'][0]).date())"
   ]
  },
  {
   "cell_type": "code",
   "execution_count": 42,
   "metadata": {},
   "outputs": [
    {
     "data": {
      "text/plain": [
       "Epiweek(year=2020, week=7, day=1)"
      ]
     },
     "execution_count": 42,
     "metadata": {},
     "output_type": "execute_result"
    }
   ],
   "source": [
    "epd"
   ]
  },
  {
   "cell_type": "code",
   "execution_count": 44,
   "metadata": {},
   "outputs": [
    {
     "data": {
      "text/plain": [
       "2020"
      ]
     },
     "execution_count": 44,
     "metadata": {},
     "output_type": "execute_result"
    }
   ],
   "source": [
    "epd.year"
   ]
  },
  {
   "cell_type": "code",
   "execution_count": 21,
   "metadata": {},
   "outputs": [
    {
     "data": {
      "text/plain": [
       "datetime.datetime(2021, 2, 17, 0, 0)"
      ]
     },
     "execution_count": 21,
     "metadata": {},
     "output_type": "execute_result"
    }
   ],
   "source": [
    "dt.datetime.strptime(input_forecast['Unnamed: 0'][374], '%Y-%m-%d')"
   ]
  },
  {
   "cell_type": "code",
   "execution_count": 27,
   "metadata": {},
   "outputs": [
    {
     "data": {
      "text/plain": [
       "datetime.date(2021, 2, 17)"
      ]
     },
     "execution_count": 27,
     "metadata": {},
     "output_type": "execute_result"
    }
   ],
   "source": [
    "dt.datetime.strptime(input_forecast['Unnamed: 0'][374], '%Y-%m-%d').date()"
   ]
  },
  {
   "cell_type": "code",
   "execution_count": 32,
   "metadata": {},
   "outputs": [],
   "source": [
    "fips = pd.read_csv('../../../github/covid19-forecast-hub/data-locations/locations.csv')"
   ]
  },
  {
   "cell_type": "code",
   "execution_count": 33,
   "metadata": {},
   "outputs": [
    {
     "data": {
      "text/html": [
       "<div>\n",
       "<style scoped>\n",
       "    .dataframe tbody tr th:only-of-type {\n",
       "        vertical-align: middle;\n",
       "    }\n",
       "\n",
       "    .dataframe tbody tr th {\n",
       "        vertical-align: top;\n",
       "    }\n",
       "\n",
       "    .dataframe thead th {\n",
       "        text-align: right;\n",
       "    }\n",
       "</style>\n",
       "<table border=\"1\" class=\"dataframe\">\n",
       "  <thead>\n",
       "    <tr style=\"text-align: right;\">\n",
       "      <th></th>\n",
       "      <th>abbreviation</th>\n",
       "      <th>location</th>\n",
       "      <th>location_name</th>\n",
       "      <th>population</th>\n",
       "    </tr>\n",
       "  </thead>\n",
       "  <tbody>\n",
       "    <tr>\n",
       "      <th>0</th>\n",
       "      <td>US</td>\n",
       "      <td>US</td>\n",
       "      <td>US</td>\n",
       "      <td>328728466.0</td>\n",
       "    </tr>\n",
       "    <tr>\n",
       "      <th>1</th>\n",
       "      <td>AL</td>\n",
       "      <td>01</td>\n",
       "      <td>Alabama</td>\n",
       "      <td>4903185.0</td>\n",
       "    </tr>\n",
       "    <tr>\n",
       "      <th>2</th>\n",
       "      <td>AK</td>\n",
       "      <td>02</td>\n",
       "      <td>Alaska</td>\n",
       "      <td>731545.0</td>\n",
       "    </tr>\n",
       "    <tr>\n",
       "      <th>3</th>\n",
       "      <td>AZ</td>\n",
       "      <td>04</td>\n",
       "      <td>Arizona</td>\n",
       "      <td>7278717.0</td>\n",
       "    </tr>\n",
       "    <tr>\n",
       "      <th>4</th>\n",
       "      <td>AR</td>\n",
       "      <td>05</td>\n",
       "      <td>Arkansas</td>\n",
       "      <td>3017804.0</td>\n",
       "    </tr>\n",
       "  </tbody>\n",
       "</table>\n",
       "</div>"
      ],
      "text/plain": [
       "  abbreviation location location_name   population\n",
       "0           US       US            US  328728466.0\n",
       "1           AL       01       Alabama    4903185.0\n",
       "2           AK       02        Alaska     731545.0\n",
       "3           AZ       04       Arizona    7278717.0\n",
       "4           AR       05      Arkansas    3017804.0"
      ]
     },
     "execution_count": 33,
     "metadata": {},
     "output_type": "execute_result"
    }
   ],
   "source": [
    "fips.head()"
   ]
  },
  {
   "cell_type": "code",
   "execution_count": 41,
   "metadata": {},
   "outputs": [
    {
     "data": {
      "text/plain": [
       "'US'"
      ]
     },
     "execution_count": 41,
     "metadata": {},
     "output_type": "execute_result"
    }
   ],
   "source": [
    "fips.query('abbreviation == @abbr').location[0]"
   ]
  },
  {
   "cell_type": "code",
   "execution_count": 72,
   "metadata": {},
   "outputs": [],
   "source": [
    "input_forecast['target_end_date'] = input_forecast.date.apply(get_epiweek_enddate)"
   ]
  },
  {
   "cell_type": "code",
   "execution_count": 97,
   "metadata": {},
   "outputs": [
    {
     "data": {
      "text/html": [
       "<div>\n",
       "<style scoped>\n",
       "    .dataframe tbody tr th:only-of-type {\n",
       "        vertical-align: middle;\n",
       "    }\n",
       "\n",
       "    .dataframe tbody tr th {\n",
       "        vertical-align: top;\n",
       "    }\n",
       "\n",
       "    .dataframe thead th {\n",
       "        text-align: right;\n",
       "    }\n",
       "</style>\n",
       "<table border=\"1\" class=\"dataframe\">\n",
       "  <thead>\n",
       "    <tr style=\"text-align: right;\">\n",
       "      <th></th>\n",
       "      <th>date</th>\n",
       "      <th>death</th>\n",
       "      <th>predicted_death</th>\n",
       "      <th>lower_bound</th>\n",
       "      <th>upper_bound</th>\n",
       "      <th>infected</th>\n",
       "      <th>symptomatic</th>\n",
       "      <th>hospitalized</th>\n",
       "      <th>hospital_beds</th>\n",
       "      <th>ICU</th>\n",
       "      <th>confirmed</th>\n",
       "      <th>target_end_date</th>\n",
       "      <th>target</th>\n",
       "    </tr>\n",
       "  </thead>\n",
       "  <tbody>\n",
       "    <tr>\n",
       "      <th>305</th>\n",
       "      <td>2020-12-10</td>\n",
       "      <td>2920.0</td>\n",
       "      <td>2453.887964</td>\n",
       "      <td>2167.678644</td>\n",
       "      <td>2777.886914</td>\n",
       "      <td>1.177338e+06</td>\n",
       "      <td>87516.272517</td>\n",
       "      <td>18704.458244</td>\n",
       "      <td>122447.724167</td>\n",
       "      <td>30326.885178</td>\n",
       "      <td>226684.0</td>\n",
       "      <td>2020-12-12</td>\n",
       "      <td>-1 wk ahead inc death</td>\n",
       "    </tr>\n",
       "    <tr>\n",
       "      <th>306</th>\n",
       "      <td>2020-12-11</td>\n",
       "      <td>3283.0</td>\n",
       "      <td>2525.496563</td>\n",
       "      <td>2221.185495</td>\n",
       "      <td>2871.499433</td>\n",
       "      <td>1.211695e+06</td>\n",
       "      <td>90070.145287</td>\n",
       "      <td>19250.285953</td>\n",
       "      <td>126020.955744</td>\n",
       "      <td>31211.874953</td>\n",
       "      <td>234103.0</td>\n",
       "      <td>2020-12-12</td>\n",
       "      <td>-1 wk ahead inc death</td>\n",
       "    </tr>\n",
       "    <tr>\n",
       "      <th>307</th>\n",
       "      <td>2020-12-12</td>\n",
       "      <td>2354.0</td>\n",
       "      <td>2599.194822</td>\n",
       "      <td>2275.810933</td>\n",
       "      <td>2968.530303</td>\n",
       "      <td>1.247054e+06</td>\n",
       "      <td>92698.544381</td>\n",
       "      <td>19812.041838</td>\n",
       "      <td>129698.460258</td>\n",
       "      <td>32122.690224</td>\n",
       "      <td>219193.0</td>\n",
       "      <td>2020-12-12</td>\n",
       "      <td>-1 wk ahead inc death</td>\n",
       "    </tr>\n",
       "    <tr>\n",
       "      <th>308</th>\n",
       "      <td>2020-12-13</td>\n",
       "      <td>1389.0</td>\n",
       "      <td>2675.043720</td>\n",
       "      <td>2331.592850</td>\n",
       "      <td>3069.085970</td>\n",
       "      <td>1.283445e+06</td>\n",
       "      <td>95403.644603</td>\n",
       "      <td>20390.190709</td>\n",
       "      <td>133483.280571</td>\n",
       "      <td>33060.084625</td>\n",
       "      <td>191142.0</td>\n",
       "      <td>2020-12-19</td>\n",
       "      <td>0 wk ahead inc death</td>\n",
       "    </tr>\n",
       "    <tr>\n",
       "      <th>309</th>\n",
       "      <td>2020-12-14</td>\n",
       "      <td>1484.0</td>\n",
       "      <td>2753.106018</td>\n",
       "      <td>2388.568935</td>\n",
       "      <td>3173.277788</td>\n",
       "      <td>1.320898e+06</td>\n",
       "      <td>98187.684223</td>\n",
       "      <td>20985.210942</td>\n",
       "      <td>137378.548338</td>\n",
       "      <td>34024.833779</td>\n",
       "      <td>192846.0</td>\n",
       "      <td>2020-12-19</td>\n",
       "      <td>0 wk ahead inc death</td>\n",
       "    </tr>\n",
       "    <tr>\n",
       "      <th>...</th>\n",
       "      <td>...</td>\n",
       "      <td>...</td>\n",
       "      <td>...</td>\n",
       "      <td>...</td>\n",
       "      <td>...</td>\n",
       "      <td>...</td>\n",
       "      <td>...</td>\n",
       "      <td>...</td>\n",
       "      <td>...</td>\n",
       "      <td>...</td>\n",
       "      <td>...</td>\n",
       "      <td>...</td>\n",
       "      <td>...</td>\n",
       "    </tr>\n",
       "    <tr>\n",
       "      <th>370</th>\n",
       "      <td>2021-02-13</td>\n",
       "      <td>NaN</td>\n",
       "      <td>15916.151557</td>\n",
       "      <td>9998.610245</td>\n",
       "      <td>25335.909108</td>\n",
       "      <td>NaN</td>\n",
       "      <td>NaN</td>\n",
       "      <td>NaN</td>\n",
       "      <td>NaN</td>\n",
       "      <td>196703.071963</td>\n",
       "      <td>NaN</td>\n",
       "      <td>2021-02-13</td>\n",
       "      <td>8 wk ahead inc death</td>\n",
       "    </tr>\n",
       "    <tr>\n",
       "      <th>371</th>\n",
       "      <td>2021-02-14</td>\n",
       "      <td>NaN</td>\n",
       "      <td>16380.611764</td>\n",
       "      <td>10234.063765</td>\n",
       "      <td>26218.758054</td>\n",
       "      <td>NaN</td>\n",
       "      <td>NaN</td>\n",
       "      <td>NaN</td>\n",
       "      <td>NaN</td>\n",
       "      <td>NaN</td>\n",
       "      <td>NaN</td>\n",
       "      <td>2021-02-20</td>\n",
       "      <td>9 wk ahead inc death</td>\n",
       "    </tr>\n",
       "    <tr>\n",
       "      <th>372</th>\n",
       "      <td>2021-02-15</td>\n",
       "      <td>NaN</td>\n",
       "      <td>16858.625705</td>\n",
       "      <td>10475.042982</td>\n",
       "      <td>27132.419519</td>\n",
       "      <td>NaN</td>\n",
       "      <td>NaN</td>\n",
       "      <td>NaN</td>\n",
       "      <td>NaN</td>\n",
       "      <td>NaN</td>\n",
       "      <td>NaN</td>\n",
       "      <td>2021-02-20</td>\n",
       "      <td>9 wk ahead inc death</td>\n",
       "    </tr>\n",
       "    <tr>\n",
       "      <th>373</th>\n",
       "      <td>2021-02-16</td>\n",
       "      <td>NaN</td>\n",
       "      <td>17350.588901</td>\n",
       "      <td>10721.677791</td>\n",
       "      <td>28077.968865</td>\n",
       "      <td>NaN</td>\n",
       "      <td>NaN</td>\n",
       "      <td>NaN</td>\n",
       "      <td>NaN</td>\n",
       "      <td>NaN</td>\n",
       "      <td>NaN</td>\n",
       "      <td>2021-02-20</td>\n",
       "      <td>9 wk ahead inc death</td>\n",
       "    </tr>\n",
       "    <tr>\n",
       "      <th>374</th>\n",
       "      <td>2021-02-17</td>\n",
       "      <td>NaN</td>\n",
       "      <td>17856.908415</td>\n",
       "      <td>10974.101131</td>\n",
       "      <td>29056.519010</td>\n",
       "      <td>NaN</td>\n",
       "      <td>NaN</td>\n",
       "      <td>NaN</td>\n",
       "      <td>NaN</td>\n",
       "      <td>NaN</td>\n",
       "      <td>NaN</td>\n",
       "      <td>2021-02-20</td>\n",
       "      <td>9 wk ahead inc death</td>\n",
       "    </tr>\n",
       "  </tbody>\n",
       "</table>\n",
       "<p>70 rows × 13 columns</p>\n",
       "</div>"
      ],
      "text/plain": [
       "           date   death  predicted_death   lower_bound   upper_bound  \\\n",
       "305  2020-12-10  2920.0      2453.887964   2167.678644   2777.886914   \n",
       "306  2020-12-11  3283.0      2525.496563   2221.185495   2871.499433   \n",
       "307  2020-12-12  2354.0      2599.194822   2275.810933   2968.530303   \n",
       "308  2020-12-13  1389.0      2675.043720   2331.592850   3069.085970   \n",
       "309  2020-12-14  1484.0      2753.106018   2388.568935   3173.277788   \n",
       "..          ...     ...              ...           ...           ...   \n",
       "370  2021-02-13     NaN     15916.151557   9998.610245  25335.909108   \n",
       "371  2021-02-14     NaN     16380.611764  10234.063765  26218.758054   \n",
       "372  2021-02-15     NaN     16858.625705  10475.042982  27132.419519   \n",
       "373  2021-02-16     NaN     17350.588901  10721.677791  28077.968865   \n",
       "374  2021-02-17     NaN     17856.908415  10974.101131  29056.519010   \n",
       "\n",
       "         infected   symptomatic  hospitalized  hospital_beds            ICU  \\\n",
       "305  1.177338e+06  87516.272517  18704.458244  122447.724167   30326.885178   \n",
       "306  1.211695e+06  90070.145287  19250.285953  126020.955744   31211.874953   \n",
       "307  1.247054e+06  92698.544381  19812.041838  129698.460258   32122.690224   \n",
       "308  1.283445e+06  95403.644603  20390.190709  133483.280571   33060.084625   \n",
       "309  1.320898e+06  98187.684223  20985.210942  137378.548338   34024.833779   \n",
       "..            ...           ...           ...            ...            ...   \n",
       "370           NaN           NaN           NaN            NaN  196703.071963   \n",
       "371           NaN           NaN           NaN            NaN            NaN   \n",
       "372           NaN           NaN           NaN            NaN            NaN   \n",
       "373           NaN           NaN           NaN            NaN            NaN   \n",
       "374           NaN           NaN           NaN            NaN            NaN   \n",
       "\n",
       "     confirmed target_end_date                 target  \n",
       "305   226684.0      2020-12-12  -1 wk ahead inc death  \n",
       "306   234103.0      2020-12-12  -1 wk ahead inc death  \n",
       "307   219193.0      2020-12-12  -1 wk ahead inc death  \n",
       "308   191142.0      2020-12-19   0 wk ahead inc death  \n",
       "309   192846.0      2020-12-19   0 wk ahead inc death  \n",
       "..         ...             ...                    ...  \n",
       "370        NaN      2021-02-13   8 wk ahead inc death  \n",
       "371        NaN      2021-02-20   9 wk ahead inc death  \n",
       "372        NaN      2021-02-20   9 wk ahead inc death  \n",
       "373        NaN      2021-02-20   9 wk ahead inc death  \n",
       "374        NaN      2021-02-20   9 wk ahead inc death  \n",
       "\n",
       "[70 rows x 13 columns]"
      ]
     },
     "execution_count": 97,
     "metadata": {},
     "output_type": "execute_result"
    }
   ],
   "source": [
    "input_forecast.tail(n=70)"
   ]
  },
  {
   "cell_type": "code",
   "execution_count": null,
   "metadata": {},
   "outputs": [],
   "source": []
  }
 ],
 "metadata": {
  "kernelspec": {
   "display_name": "Python 3",
   "language": "python",
   "name": "python3"
  },
  "language_info": {
   "codemirror_mode": {
    "name": "ipython",
    "version": 3
   },
   "file_extension": ".py",
   "mimetype": "text/x-python",
   "name": "python",
   "nbconvert_exporter": "python",
   "pygments_lexer": "ipython3",
   "version": "3.7.3"
  }
 },
 "nbformat": 4,
 "nbformat_minor": 4
}
